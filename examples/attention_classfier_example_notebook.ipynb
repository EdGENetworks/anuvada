{
 "cells": [
  {
   "cell_type": "markdown",
   "metadata": {},
   "source": [
    "### Importing libraries"
   ]
  },
  {
   "cell_type": "code",
   "execution_count": 1,
   "metadata": {
    "collapsed": true
   },
   "outputs": [],
   "source": [
    "import anuvada\n",
    "import numpy as np\n",
    "import torch\n",
    "import pandas as pd"
   ]
  },
  {
   "cell_type": "code",
   "execution_count": 2,
   "metadata": {
    "collapsed": true
   },
   "outputs": [],
   "source": [
    "from anuvada.models.classification_attention_rnn import AttentionClassifier"
   ]
  },
  {
   "cell_type": "markdown",
   "metadata": {},
   "source": [
    "### Creating the dataset"
   ]
  },
  {
   "cell_type": "code",
   "execution_count": 3,
   "metadata": {
    "collapsed": true
   },
   "outputs": [],
   "source": [
    "from anuvada.datasets.data_loader import CreateDataset\n",
    "from anuvada.datasets.data_loader import LoadData"
   ]
  },
  {
   "cell_type": "code",
   "execution_count": 4,
   "metadata": {
    "collapsed": true
   },
   "outputs": [],
   "source": [
    "data = CreateDataset()"
   ]
  },
  {
   "cell_type": "code",
   "execution_count": 5,
   "metadata": {
    "collapsed": true
   },
   "outputs": [],
   "source": [
    "df = pd.read_csv('/home/sandeep/PycharmProjects/MovieSummaries/movie_summary_filtered.csv')"
   ]
  },
  {
   "cell_type": "code",
   "execution_count": 6,
   "metadata": {
    "collapsed": true
   },
   "outputs": [],
   "source": [
    "# passing only the first 512 samples, don't have a GPU here!\n",
    "y = list(df.Genre.values)[0:512]\n",
    "x = list(df.summary.values)[0:512]"
   ]
  },
  {
   "cell_type": "code",
   "execution_count": 7,
   "metadata": {
    "collapsed": true
   },
   "outputs": [],
   "source": [
    "x, y = data.create_dataset(x,y, folder_path='test', max_doc_tokens=500)"
   ]
  },
  {
   "cell_type": "markdown",
   "metadata": {},
   "source": [
    "### Loading created dataset"
   ]
  },
  {
   "cell_type": "code",
   "execution_count": 8,
   "metadata": {
    "collapsed": true
   },
   "outputs": [],
   "source": [
    "l = LoadData()"
   ]
  },
  {
   "cell_type": "code",
   "execution_count": 9,
   "metadata": {
    "collapsed": true
   },
   "outputs": [],
   "source": [
    "x, y, token2id, label2id, lengths_mask = l.load_data_from_path('test')"
   ]
  },
  {
   "cell_type": "code",
   "execution_count": 10,
   "metadata": {
    "collapsed": true
   },
   "outputs": [],
   "source": [
    "id2token = {v: k for k, v in token2id.iteritems()}"
   ]
  },
  {
   "cell_type": "markdown",
   "metadata": {},
   "source": [
    "### Change into torch vectors"
   ]
  },
  {
   "cell_type": "code",
   "execution_count": 11,
   "metadata": {
    "collapsed": true
   },
   "outputs": [],
   "source": [
    "x = torch.from_numpy(x)"
   ]
  },
  {
   "cell_type": "code",
   "execution_count": 12,
   "metadata": {
    "collapsed": true
   },
   "outputs": [],
   "source": [
    "y = torch.from_numpy(y)"
   ]
  },
  {
   "cell_type": "markdown",
   "metadata": {},
   "source": [
    "### Create attention classifier"
   ]
  },
  {
   "cell_type": "code",
   "execution_count": 13,
   "metadata": {
    "collapsed": true
   },
   "outputs": [],
   "source": [
    "acf = AttentionClassifier(vocab_size=len(token2id)+2,embed_size=25,gru_hidden=25,n_classes=len(label2id))"
   ]
  },
  {
   "cell_type": "code",
   "execution_count": 14,
   "metadata": {},
   "outputs": [
    {
     "name": "stdout",
     "output_type": "stream",
     "text": [
      "Epoch 1 / 1\n",
      "\r",
      "[==============                          ] 33%\t\r",
      "[==============                          ] 33%\tloss: 3.9649\r",
      "[===========================             ] 66%\tloss: 3.9687\r",
      "[========================================] 100%\tloss: 3.9780\r",
      "[========================================] 100%\tloss: 3.9780    val_loss: 3.9864\n",
      "\n"
     ]
    }
   ],
   "source": [
    "loss = acf.fit(x,y, lengths_mask ,epochs=1,validation_split=0.5)"
   ]
  },
  {
   "cell_type": "markdown",
   "metadata": {},
   "source": [
    "### Predicting"
   ]
  },
  {
   "cell_type": "markdown",
   "metadata": {},
   "source": [
    "Prediction needs more than one minibatch at this moment."
   ]
  },
  {
   "cell_type": "code",
   "execution_count": 17,
   "metadata": {
    "collapsed": true
   },
   "outputs": [
    {
     "data": {
      "text/plain": [
       "\n",
       "-0.0765 -0.1346 -0.0699  ...  -0.1226 -0.0207 -0.0734\n",
       "-0.1225 -0.1077 -0.0633  ...  -0.0967 -0.0434 -0.0577\n",
       "-0.0769 -0.0958 -0.0666  ...  -0.1312  0.0006 -0.0613\n",
       "          ...             ⋱             ...          \n",
       " 0.0000  0.0000  0.0000  ...   0.0000  0.0000  0.0000\n",
       " 0.0000  0.0000  0.0000  ...   0.0000  0.0000  0.0000\n",
       " 0.0000  0.0000  0.0000  ...   0.0000  0.0000  0.0000\n",
       "[torch.FloatTensor of size 128x53]"
      ]
     },
     "execution_count": 17,
     "metadata": {},
     "output_type": "execute_result"
    }
   ],
   "source": [
    "acf.predict(x[0:128], lengths_mask[0:128])"
   ]
  },
  {
   "cell_type": "markdown",
   "metadata": {},
   "source": [
    "Getting attention"
   ]
  },
  {
   "cell_type": "code",
   "execution_count": 18,
   "metadata": {
    "collapsed": true
   },
   "outputs": [
    {
     "data": {
      "text/plain": [
       "Variable containing:\n",
       "1.00000e-03 *\n",
       " 2.0875  2.0810  2.0356  ...   2.1465  1.9496  1.9577\n",
       " 2.0646  2.1087  2.0865  ...   1.8352  1.9457  1.9651\n",
       " 1.8618  1.8779  1.9117  ...   2.0975  1.9007  2.1607\n",
       "          ...             ⋱             ...          \n",
       " 2.0852  2.0781  2.0347  ...   1.9300  2.0627  1.9437\n",
       " 1.9634  2.0155  2.0910  ...   1.8892  2.0084  1.9867\n",
       " 1.9294  1.9451  2.0467  ...   1.9175  2.0136  2.0083\n",
       "[torch.FloatTensor of size 64x500]"
      ]
     },
     "execution_count": 18,
     "metadata": {},
     "output_type": "execute_result"
    }
   ],
   "source": [
    "acf.get_attention(x[0:64], lengths_mask[0:64])"
   ]
  },
  {
   "cell_type": "markdown",
   "metadata": {},
   "source": [
    "Visualize attention for first sample in the batch "
   ]
  },
  {
   "cell_type": "code",
   "execution_count": 20,
   "metadata": {
    "collapsed": true
   },
   "outputs": [],
   "source": [
    "acf.visualize_attention(x[1:65],lengths_mask[1:65], id2token, 'visual.html')"
   ]
  },
  {
   "cell_type": "code",
   "execution_count": 21,
   "metadata": {
    "collapsed": true
   },
   "outputs": [],
   "source": [
    "from IPython.core.display import display, HTML"
   ]
  },
  {
   "cell_type": "markdown",
   "metadata": {},
   "source": [
    "Everything is noise now, so the attention weights don't make sense."
   ]
  },
  {
   "cell_type": "code",
   "execution_count": 22,
   "metadata": {
    "collapsed": true
   },
   "outputs": [
    {
     "data": {
      "text/html": [
       "<font style=\"background: rgba(255, 255, 0, 0.863038)\">the</font>\n",
       "<font style=\"background: rgba(255, 255, 0, 0.881508)\">film</font>\n",
       "<font style=\"background: rgba(255, 255, 0, 0.872196)\">begins</font>\n",
       "<font style=\"background: rgba(255, 255, 0, 0.828863)\">with</font>\n",
       "<font style=\"background: rgba(255, 255, 0, 0.810628)\">michael</font>\n",
       "<font style=\"background: rgba(255, 255, 0, 0.785146)\">_UNK</font>\n",
       "<font style=\"background: rgba(255, 255, 0, 0.833928)\">,</font>\n",
       "<font style=\"background: rgba(255, 255, 0, 0.841206)\">a</font>\n",
       "<font style=\"background: rgba(255, 255, 0, 0.768698)\">_UNK</font>\n",
       "<font style=\"background: rgba(255, 255, 0, 0.784073)\">_UNK</font>\n",
       "<font style=\"background: rgba(255, 255, 0, 0.805599)\">,</font>\n",
       "<font style=\"background: rgba(255, 255, 0, 0.841848)\">passed</font>\n",
       "<font style=\"background: rgba(255, 255, 0, 0.849564)\">out</font>\n",
       "<font style=\"background: rgba(255, 255, 0, 0.850010)\">some</font>\n",
       "<font style=\"background: rgba(255, 255, 0, 0.871082)\">time</font>\n",
       "<font style=\"background: rgba(255, 255, 0, 0.897246)\">in</font>\n",
       "<font style=\"background: rgba(255, 255, 0, 0.865950)\">the</font>\n",
       "<font style=\"background: rgba(255, 255, 0, 0.835328)\">mid</font>\n",
       "<font style=\"background: rgba(255, 255, 0, 0.911332)\">-</font>\n",
       "<font style=\"background: rgba(255, 255, 0, 0.825903)\">_UNK</font>\n",
       "<font style=\"background: rgba(255, 255, 0, 0.780424)\">.</font>\n",
       "<font style=\"background: rgba(255, 255, 0, 0.769176)\">he</font>\n",
       "<font style=\"background: rgba(255, 255, 0, 0.814605)\">awakes</font>\n",
       "<font style=\"background: rgba(255, 255, 0, 0.878485)\">to</font>\n",
       "<font style=\"background: rgba(255, 255, 0, 0.816525)\">find</font>\n",
       "<font style=\"background: rgba(255, 255, 0, 0.729417)\">two</font>\n",
       "<font style=\"background: rgba(255, 255, 0, 0.739659)\">thugs</font>\n",
       "<font style=\"background: rgba(255, 255, 0, 0.789806)\">,</font>\n",
       "<font style=\"background: rgba(255, 255, 0, 0.825955)\">ivan</font>\n",
       "<font style=\"background: rgba(255, 255, 0, 0.810183)\"> </font>\n",
       "<font style=\"background: rgba(255, 255, 0, 0.819632)\">and</font>\n",
       "<font style=\"background: rgba(255, 255, 0, 0.815466)\">orlando</font>\n",
       "<font style=\"background: rgba(255, 255, 0, 0.800702)\">,</font>\n",
       "<font style=\"background: rgba(255, 255, 0, 0.788183)\">_UNK</font>\n",
       "<font style=\"background: rgba(255, 255, 0, 0.757537)\">at</font>\n",
       "<font style=\"background: rgba(255, 255, 0, 0.812258)\">him</font>\n",
       "<font style=\"background: rgba(255, 255, 0, 0.792494)\">.</font>\n",
       "<font style=\"background: rgba(255, 255, 0, 0.784491)\">they</font>\n",
       "<font style=\"background: rgba(255, 255, 0, 0.795191)\">_UNK</font>\n",
       "<font style=\"background: rgba(255, 255, 0, 0.845036)\">him</font>\n",
       "<font style=\"background: rgba(255, 255, 0, 0.865129)\">that</font>\n",
       "<font style=\"background: rgba(255, 255, 0, 0.768110)\">he</font>\n",
       "<font style=\"background: rgba(255, 255, 0, 0.797125)\">_UNK</font>\n",
       "<font style=\"background: rgba(255, 255, 0, 0.786488)\">money</font>\n",
       "<font style=\"background: rgba(255, 255, 0, 0.851393)\">to</font>\n",
       "<font style=\"background: rgba(255, 255, 0, 0.821530)\">_UNK</font>\n",
       "<font style=\"background: rgba(255, 255, 0, 0.874314)\">perrier</font>\n",
       "<font style=\"background: rgba(255, 255, 0, 0.896296)\">,</font>\n",
       "<font style=\"background: rgba(255, 255, 0, 0.930260)\">a</font>\n",
       "<font style=\"background: rgba(255, 255, 0, 0.843287)\">local</font>\n",
       "<font style=\"background: rgba(255, 255, 0, 0.776983)\">crime</font>\n",
       "<font style=\"background: rgba(255, 255, 0, 0.811612)\">boss</font>\n",
       "<font style=\"background: rgba(255, 255, 0, 0.769979)\">.</font>\n",
       "<font style=\"background: rgba(255, 255, 0, 0.815101)\">the</font>\n",
       "<font style=\"background: rgba(255, 255, 0, 0.851332)\">debt</font>\n",
       "<font style=\"background: rgba(255, 255, 0, 0.880772)\">must</font>\n",
       "<font style=\"background: rgba(255, 255, 0, 0.933317)\">be</font>\n",
       "<font style=\"background: rgba(255, 255, 0, 0.853324)\">paid</font>\n",
       "<font style=\"background: rgba(255, 255, 0, 0.878747)\">that</font>\n",
       "<font style=\"background: rgba(255, 255, 0, 0.817195)\">night</font>\n",
       "<font style=\"background: rgba(255, 255, 0, 0.837449)\">,</font>\n",
       "<font style=\"background: rgba(255, 255, 0, 0.779546)\">or</font>\n",
       "<font style=\"background: rgba(255, 255, 0, 0.810522)\">ivan</font>\n",
       "<font style=\"background: rgba(255, 255, 0, 0.851767)\">and</font>\n",
       "<font style=\"background: rgba(255, 255, 0, 0.866315)\">orlando</font>\n",
       "<font style=\"background: rgba(255, 255, 0, 0.797255)\">will</font>\n",
       "<font style=\"background: rgba(255, 255, 0, 0.851566)\">break</font>\n",
       "<font style=\"background: rgba(255, 255, 0, 0.759168)\">two</font>\n",
       "<font style=\"background: rgba(255, 255, 0, 0.809381)\">of</font>\n",
       "<font style=\"background: rgba(255, 255, 0, 0.779225)\">michael</font>\n",
       "<font style=\"background: rgba(255, 255, 0, 0.747422)\">'s</font>\n",
       "<font style=\"background: rgba(255, 255, 0, 0.853496)\">bones</font>\n",
       "<font style=\"background: rgba(255, 255, 0, 0.830674)\">of</font>\n",
       "<font style=\"background: rgba(255, 255, 0, 0.821057)\">his</font>\n",
       "<font style=\"background: rgba(255, 255, 0, 0.895422)\">own</font>\n",
       "<font style=\"background: rgba(255, 255, 0, 0.845111)\">choice</font>\n",
       "<font style=\"background: rgba(255, 255, 0, 0.799878)\">.</font>\n",
       "<font style=\"background: rgba(255, 255, 0, 0.839207)\">after</font>\n",
       "<font style=\"background: rgba(255, 255, 0, 0.780441)\">they</font>\n",
       "<font style=\"background: rgba(255, 255, 0, 0.829022)\">depart</font>\n",
       "<font style=\"background: rgba(255, 255, 0, 0.853919)\">,</font>\n",
       "<font style=\"background: rgba(255, 255, 0, 0.835820)\">michael</font>\n",
       "<font style=\"background: rgba(255, 255, 0, 0.811732)\">heads</font>\n",
       "<font style=\"background: rgba(255, 255, 0, 0.775928)\">down</font>\n",
       "<font style=\"background: rgba(255, 255, 0, 0.771354)\">stairs</font>\n",
       "<font style=\"background: rgba(255, 255, 0, 0.869743)\">and</font>\n",
       "<font style=\"background: rgba(255, 255, 0, 0.838855)\">sees</font>\n",
       "<font style=\"background: rgba(255, 255, 0, 0.831125)\">brenda</font>\n",
       "<font style=\"background: rgba(255, 255, 0, 0.877437)\">,</font>\n",
       "<font style=\"background: rgba(255, 255, 0, 0.910446)\">a</font>\n",
       "<font style=\"background: rgba(255, 255, 0, 0.815464)\">friend</font>\n",
       "<font style=\"background: rgba(255, 255, 0, 0.817402)\">of</font>\n",
       "<font style=\"background: rgba(255, 255, 0, 0.790509)\">his</font>\n",
       "<font style=\"background: rgba(255, 255, 0, 0.854577)\">,</font>\n",
       "<font style=\"background: rgba(255, 255, 0, 0.920795)\">carrying</font>\n",
       "<font style=\"background: rgba(255, 255, 0, 0.885569)\">a</font>\n",
       "<font style=\"background: rgba(255, 255, 0, 0.821746)\">_UNK</font>\n",
       "<font style=\"background: rgba(255, 255, 0, 0.860221)\">of</font>\n",
       "<font style=\"background: rgba(255, 255, 0, 0.837942)\">flowers</font>\n",
       "<font style=\"background: rgba(255, 255, 0, 0.776838)\">.</font>\n",
       "<font style=\"background: rgba(255, 255, 0, 0.771437)\">she</font>\n",
       "<font style=\"background: rgba(255, 255, 0, 0.912235)\">informs</font>\n",
       "<font style=\"background: rgba(255, 255, 0, 0.861641)\">michael</font>\n",
       "<font style=\"background: rgba(255, 255, 0, 0.899081)\">that</font>\n",
       "<font style=\"background: rgba(255, 255, 0, 0.891674)\">her</font>\n",
       "<font style=\"background: rgba(255, 255, 0, 0.838626)\">boyfriend</font>\n",
       "<font style=\"background: rgba(255, 255, 0, 0.826570)\">,</font>\n",
       "<font style=\"background: rgba(255, 255, 0, 0.808429)\">shamie</font>\n",
       "<font style=\"background: rgba(255, 255, 0, 0.831315)\">,</font>\n",
       "<font style=\"background: rgba(255, 255, 0, 0.862920)\">with</font>\n",
       "<font style=\"background: rgba(255, 255, 0, 0.917540)\">whom</font>\n",
       "<font style=\"background: rgba(255, 255, 0, 0.804998)\">she</font>\n",
       "<font style=\"background: rgba(255, 255, 0, 0.922604)\">has</font>\n",
       "<font style=\"background: rgba(255, 255, 0, 0.883470)\">a</font>\n",
       "<font style=\"background: rgba(255, 255, 0, 0.832536)\">rocky</font>\n",
       "<font style=\"background: rgba(255, 255, 0, 0.821459)\">relationship</font>\n",
       "<font style=\"background: rgba(255, 255, 0, 0.829299)\">,</font>\n",
       "<font style=\"background: rgba(255, 255, 0, 0.907307)\">has</font>\n",
       "<font style=\"background: rgba(255, 255, 0, 0.869661)\">given</font>\n",
       "<font style=\"background: rgba(255, 255, 0, 0.911632)\">her</font>\n",
       "<font style=\"background: rgba(255, 255, 0, 0.874403)\">the</font>\n",
       "<font style=\"background: rgba(255, 255, 0, 0.884180)\">flowers</font>\n",
       "<font style=\"background: rgba(255, 255, 0, 0.820424)\">by</font>\n",
       "<font style=\"background: rgba(255, 255, 0, 0.802881)\">way</font>\n",
       "<font style=\"background: rgba(255, 255, 0, 0.844960)\">of</font>\n",
       "<font style=\"background: rgba(255, 255, 0, 0.831914)\">_UNK</font>\n",
       "<font style=\"background: rgba(255, 255, 0, 0.835385)\">for</font>\n",
       "<font style=\"background: rgba(255, 255, 0, 0.787128)\">his</font>\n",
       "<font style=\"background: rgba(255, 255, 0, 0.811618)\">_UNK</font>\n",
       "<font style=\"background: rgba(255, 255, 0, 0.811130)\">.</font>\n",
       "<font style=\"background: rgba(255, 255, 0, 0.816265)\">michael</font>\n",
       "<font style=\"background: rgba(255, 255, 0, 0.784869)\">is</font>\n",
       "<font style=\"background: rgba(255, 255, 0, 0.759229)\">_UNK</font>\n",
       "<font style=\"background: rgba(255, 255, 0, 0.785971)\">,</font>\n",
       "<font style=\"background: rgba(255, 255, 0, 0.831213)\">and</font>\n",
       "<font style=\"background: rgba(255, 255, 0, 0.802652)\">leaves</font>\n",
       "<font style=\"background: rgba(255, 255, 0, 0.894048)\">the</font>\n",
       "<font style=\"background: rgba(255, 255, 0, 1.000000)\">building</font>\n",
       "<font style=\"background: rgba(255, 255, 0, 0.936483)\">in</font>\n",
       "<font style=\"background: rgba(255, 255, 0, 0.837922)\">pursuit</font>\n",
       "<font style=\"background: rgba(255, 255, 0, 0.880059)\">of</font>\n",
       "<font style=\"background: rgba(255, 255, 0, 0.892519)\">a</font>\n",
       "<font style=\"background: rgba(255, 255, 0, 0.844813)\">loan</font>\n",
       "<font style=\"background: rgba(255, 255, 0, 0.870418)\">in</font>\n",
       "<font style=\"background: rgba(255, 255, 0, 0.811998)\">order</font>\n",
       "<font style=\"background: rgba(255, 255, 0, 0.868108)\">to</font>\n",
       "<font style=\"background: rgba(255, 255, 0, 0.793252)\">pay</font>\n",
       "<font style=\"background: rgba(255, 255, 0, 0.805031)\">off</font>\n",
       "<font style=\"background: rgba(255, 255, 0, 0.824237)\">his</font>\n",
       "<font style=\"background: rgba(255, 255, 0, 0.861705)\">current</font>\n",
       "<font style=\"background: rgba(255, 255, 0, 0.896740)\">debt</font>\n",
       "<font style=\"background: rgba(255, 255, 0, 0.835799)\">.</font>\n",
       "<font style=\"background: rgba(255, 255, 0, 0.827389)\">michael</font>\n",
       "<font style=\"background: rgba(255, 255, 0, 0.835229)\">heads</font>\n",
       "<font style=\"background: rgba(255, 255, 0, 0.849380)\">to</font>\n",
       "<font style=\"background: rgba(255, 255, 0, 0.795994)\">_UNK</font>\n",
       "<font style=\"background: rgba(255, 255, 0, 0.776400)\">'s</font>\n",
       "<font style=\"background: rgba(255, 255, 0, 0.849582)\">pool</font>\n",
       "<font style=\"background: rgba(255, 255, 0, 0.819662)\">hall</font>\n",
       "<font style=\"background: rgba(255, 255, 0, 0.850848)\">,</font>\n",
       "<font style=\"background: rgba(255, 255, 0, 0.890898)\">a</font>\n",
       "<font style=\"background: rgba(255, 255, 0, 0.854318)\">nearby</font>\n",
       "<font style=\"background: rgba(255, 255, 0, 0.815797)\">_UNK</font>\n",
       "<font style=\"background: rgba(255, 255, 0, 0.892384)\">bar</font>\n",
       "<font style=\"background: rgba(255, 255, 0, 0.894872)\">,</font>\n",
       "<font style=\"background: rgba(255, 255, 0, 0.912808)\">in</font>\n",
       "<font style=\"background: rgba(255, 255, 0, 0.849751)\">search</font>\n",
       "<font style=\"background: rgba(255, 255, 0, 0.894101)\">of</font>\n",
       "<font style=\"background: rgba(255, 255, 0, 0.881381)\">a</font>\n",
       "<font style=\"background: rgba(255, 255, 0, 0.812108)\">man</font>\n",
       "<font style=\"background: rgba(255, 255, 0, 0.771682)\">known</font>\n",
       "<font style=\"background: rgba(255, 255, 0, 0.776717)\">as</font>\n",
       "<font style=\"background: rgba(255, 255, 0, 0.819771)\">the</font>\n",
       "<font style=\"background: rgba(255, 255, 0, 0.806123)\">mutt</font>\n",
       "<font style=\"background: rgba(255, 255, 0, 0.810531)\">(</font>\n",
       "<font style=\"background: rgba(255, 255, 0, 0.874143)\">[</font>\n",
       "<font style=\"background: rgba(255, 255, 0, 0.858762)\">[</font>\n",
       "<font style=\"background: rgba(255, 255, 0, 0.811153)\">_UNK</font>\n",
       "<font style=\"background: rgba(255, 255, 0, 0.831294)\">_UNK</font>\n",
       "<font style=\"background: rgba(255, 255, 0, 0.876480)\">,</font>\n",
       "<font style=\"background: rgba(255, 255, 0, 0.925653)\">who</font>\n",
       "<font style=\"background: rgba(255, 255, 0, 0.867288)\">is</font>\n",
       "<font style=\"background: rgba(255, 255, 0, 0.787884)\">known</font>\n",
       "<font style=\"background: rgba(255, 255, 0, 0.832816)\">to</font>\n",
       "<font style=\"background: rgba(255, 255, 0, 0.783781)\">hand</font>\n",
       "<font style=\"background: rgba(255, 255, 0, 0.781031)\">out</font>\n",
       "<font style=\"background: rgba(255, 255, 0, 0.789720)\">_UNK</font>\n",
       "<font style=\"background: rgba(255, 255, 0, 0.787775)\">.</font>\n",
       "<font style=\"background: rgba(255, 255, 0, 0.819895)\">there</font>\n",
       "<font style=\"background: rgba(255, 255, 0, 0.834282)\">,</font>\n",
       "<font style=\"background: rgba(255, 255, 0, 0.827504)\">michael</font>\n",
       "<font style=\"background: rgba(255, 255, 0, 0.839996)\">finds</font>\n",
       "<font style=\"background: rgba(255, 255, 0, 0.825010)\">his</font>\n",
       "<font style=\"background: rgba(255, 255, 0, 0.817507)\">friend</font>\n",
       "<font style=\"background: rgba(255, 255, 0, 0.848589)\">clifford</font>\n",
       "<font style=\"background: rgba(255, 255, 0, 0.842163)\">,</font>\n",
       "<font style=\"background: rgba(255, 255, 0, 0.862427)\">who</font>\n",
       "<font style=\"background: rgba(255, 255, 0, 0.811994)\">explains</font>\n",
       "<font style=\"background: rgba(255, 255, 0, 0.887623)\">that</font>\n",
       "<font style=\"background: rgba(255, 255, 0, 0.823034)\">the</font>\n",
       "<font style=\"background: rgba(255, 255, 0, 0.810606)\">mutt</font>\n",
       "<font style=\"background: rgba(255, 255, 0, 0.835393)\">was</font>\n",
       "<font style=\"background: rgba(255, 255, 0, 0.900775)\">only</font>\n",
       "<font style=\"background: rgba(255, 255, 0, 0.898883)\">recently</font>\n",
       "<font style=\"background: rgba(255, 255, 0, 0.867194)\">thrown</font>\n",
       "<font style=\"background: rgba(255, 255, 0, 0.809323)\">out</font>\n",
       "<font style=\"background: rgba(255, 255, 0, 0.810961)\">of</font>\n",
       "<font style=\"background: rgba(255, 255, 0, 0.801714)\">the</font>\n",
       "<font style=\"background: rgba(255, 255, 0, 0.815525)\">_UNK</font>\n",
       "<font style=\"background: rgba(255, 255, 0, 0.904703)\">;</font>\n",
       "<font style=\"background: rgba(255, 255, 0, 0.905411)\">having</font>\n",
       "<font style=\"background: rgba(255, 255, 0, 0.888313)\">_UNK</font>\n",
       "<font style=\"background: rgba(255, 255, 0, 0.920727)\">a</font>\n",
       "<font style=\"background: rgba(255, 255, 0, 0.843395)\">man</font>\n",
       "<font style=\"background: rgba(255, 255, 0, 0.830133)\">for</font>\n",
       "<font style=\"background: rgba(255, 255, 0, 0.783128)\">_UNK</font>\n",
       "<font style=\"background: rgba(255, 255, 0, 0.794396)\">his</font>\n",
       "<font style=\"background: rgba(255, 255, 0, 0.821038)\">_UNK</font>\n",
       "<font style=\"background: rgba(255, 255, 0, 0.850379)\">skills</font>\n",
       "<font style=\"background: rgba(255, 255, 0, 0.771075)\">.</font>\n",
       "<font style=\"background: rgba(255, 255, 0, 0.803789)\">leaving</font>\n",
       "<font style=\"background: rgba(255, 255, 0, 0.841017)\">the</font>\n",
       "<font style=\"background: rgba(255, 255, 0, 0.884854)\">bar</font>\n",
       "<font style=\"background: rgba(255, 255, 0, 0.873883)\">,</font>\n",
       "<font style=\"background: rgba(255, 255, 0, 0.853993)\">michael</font>\n",
       "<font style=\"background: rgba(255, 255, 0, 0.814417)\">gets</font>\n",
       "<font style=\"background: rgba(255, 255, 0, 0.807149)\">into</font>\n",
       "<font style=\"background: rgba(255, 255, 0, 0.844320)\">a</font>\n",
       "<font style=\"background: rgba(255, 255, 0, 0.787018)\">_UNK</font>\n",
       "<font style=\"background: rgba(255, 255, 0, 0.801758)\">with</font>\n",
       "<font style=\"background: rgba(255, 255, 0, 0.734081)\">two</font>\n",
       "<font style=\"background: rgba(255, 255, 0, 0.779447)\">_UNK</font>\n",
       "<font style=\"background: rgba(255, 255, 0, 0.833788)\">,</font>\n",
       "<font style=\"background: rgba(255, 255, 0, 0.859067)\">who</font>\n",
       "<font style=\"background: rgba(255, 255, 0, 0.824432)\">_UNK</font>\n",
       "<font style=\"background: rgba(255, 255, 0, 0.882274)\">to</font>\n",
       "<font style=\"background: rgba(255, 255, 0, 0.811057)\">find</font>\n",
       "<font style=\"background: rgba(255, 255, 0, 0.811915)\">him</font>\n",
       "<font style=\"background: rgba(255, 255, 0, 0.834417)\">and</font>\n",
       "<font style=\"background: rgba(255, 255, 0, 0.815835)\">_UNK</font>\n",
       "<font style=\"background: rgba(255, 255, 0, 0.813060)\">his</font>\n",
       "<font style=\"background: rgba(255, 255, 0, 0.818890)\">car</font>\n",
       "<font style=\"background: rgba(255, 255, 0, 0.844312)\">later</font>\n",
       "<font style=\"background: rgba(255, 255, 0, 0.821545)\">.</font>\n",
       "<font style=\"background: rgba(255, 255, 0, 0.822466)\">michael</font>\n",
       "<font style=\"background: rgba(255, 255, 0, 0.831964)\">heads</font>\n",
       "<font style=\"background: rgba(255, 255, 0, 0.815978)\">home</font>\n",
       "<font style=\"background: rgba(255, 255, 0, 0.877826)\">only</font>\n",
       "<font style=\"background: rgba(255, 255, 0, 0.897278)\">to</font>\n",
       "<font style=\"background: rgba(255, 255, 0, 0.829191)\">find</font>\n",
       "<font style=\"background: rgba(255, 255, 0, 0.806113)\">his</font>\n",
       "<font style=\"background: rgba(255, 255, 0, 0.881810)\">father</font>\n",
       "<font style=\"background: rgba(255, 255, 0, 0.836597)\">,</font>\n",
       "<font style=\"background: rgba(255, 255, 0, 0.823254)\">jim</font>\n",
       "<font style=\"background: rgba(255, 255, 0, 0.812123)\">_UNK</font>\n",
       "<font style=\"background: rgba(255, 255, 0, 0.845806)\">,</font>\n",
       "<font style=\"background: rgba(255, 255, 0, 0.818328)\">waiting</font>\n",
       "<font style=\"background: rgba(255, 255, 0, 0.839544)\">outside</font>\n",
       "<font style=\"background: rgba(255, 255, 0, 0.785543)\">.</font>\n",
       "<font style=\"background: rgba(255, 255, 0, 0.754943)\">since</font>\n",
       "<font style=\"background: rgba(255, 255, 0, 0.775802)\">he</font>\n",
       "<font style=\"background: rgba(255, 255, 0, 0.832541)\">does</font>\n",
       "<font style=\"background: rgba(255, 255, 0, 0.789991)\">not</font>\n",
       "<font style=\"background: rgba(255, 255, 0, 0.810209)\">have</font>\n",
       "<font style=\"background: rgba(255, 255, 0, 0.854402)\">the</font>\n",
       "<font style=\"background: rgba(255, 255, 0, 0.838986)\">best</font>\n",
       "<font style=\"background: rgba(255, 255, 0, 0.816896)\">relationship</font>\n",
       "<font style=\"background: rgba(255, 255, 0, 0.806847)\">with</font>\n",
       "<font style=\"background: rgba(255, 255, 0, 0.816565)\">his</font>\n",
       "<font style=\"background: rgba(255, 255, 0, 0.900762)\">father</font>\n",
       "<font style=\"background: rgba(255, 255, 0, 0.887503)\">,</font>\n",
       "<font style=\"background: rgba(255, 255, 0, 0.881827)\">michael</font>\n",
       "<font style=\"background: rgba(255, 255, 0, 0.842153)\">is</font>\n",
       "<font style=\"background: rgba(255, 255, 0, 0.832563)\">initially</font>\n",
       "<font style=\"background: rgba(255, 255, 0, 0.893578)\">reluctant</font>\n",
       "<font style=\"background: rgba(255, 255, 0, 0.887251)\">to</font>\n",
       "<font style=\"background: rgba(255, 255, 0, 0.845063)\">talk</font>\n",
       "<font style=\"background: rgba(255, 255, 0, 0.776069)\">.</font>\n",
       "<font style=\"background: rgba(255, 255, 0, 0.837448)\">however</font>\n",
       "<font style=\"background: rgba(255, 255, 0, 0.853992)\">,</font>\n",
       "<font style=\"background: rgba(255, 255, 0, 0.870386)\">jim</font>\n",
       "<font style=\"background: rgba(255, 255, 0, 0.837377)\">reveals</font>\n",
       "<font style=\"background: rgba(255, 255, 0, 0.867306)\">that</font>\n",
       "<font style=\"background: rgba(255, 255, 0, 0.793270)\">he</font>\n",
       "<font style=\"background: rgba(255, 255, 0, 0.828604)\">is</font>\n",
       "<font style=\"background: rgba(255, 255, 0, 0.761579)\">dying</font>\n",
       "<font style=\"background: rgba(255, 255, 0, 0.838292)\">of</font>\n",
       "<font style=\"background: rgba(255, 255, 0, 0.843699)\">cancer</font>\n",
       "<font style=\"background: rgba(255, 255, 0, 0.871856)\">and</font>\n",
       "<font style=\"background: rgba(255, 255, 0, 0.935481)\">wishes</font>\n",
       "<font style=\"background: rgba(255, 255, 0, 0.907064)\">to</font>\n",
       "<font style=\"background: rgba(255, 255, 0, 0.900766)\">reconcile</font>\n",
       "<font style=\"background: rgba(255, 255, 0, 0.795390)\">.</font>\n",
       "<font style=\"background: rgba(255, 255, 0, 0.821779)\">the</font>\n",
       "<font style=\"background: rgba(255, 255, 0, 0.770080)\">two</font>\n",
       "<font style=\"background: rgba(255, 255, 0, 0.834610)\">head</font>\n",
       "<font style=\"background: rgba(255, 255, 0, 0.892506)\">to</font>\n",
       "<font style=\"background: rgba(255, 255, 0, 0.883970)\">a</font>\n",
       "<font style=\"background: rgba(255, 255, 0, 0.845055)\">pub</font>\n",
       "<font style=\"background: rgba(255, 255, 0, 0.863413)\">and</font>\n",
       "<font style=\"background: rgba(255, 255, 0, 0.937476)\">begin</font>\n",
       "<font style=\"background: rgba(255, 255, 0, 0.888013)\">to</font>\n",
       "<font style=\"background: rgba(255, 255, 0, 0.814866)\">drink</font>\n",
       "<font style=\"background: rgba(255, 255, 0, 0.827511)\">,</font>\n",
       "<font style=\"background: rgba(255, 255, 0, 0.890459)\">but</font>\n",
       "<font style=\"background: rgba(255, 255, 0, 0.864991)\">while</font>\n",
       "<font style=\"background: rgba(255, 255, 0, 0.893625)\">there</font>\n",
       "<font style=\"background: rgba(255, 255, 0, 0.859059)\">michael</font>\n",
       "<font style=\"background: rgba(255, 255, 0, 0.873066)\">learns</font>\n",
       "<font style=\"background: rgba(255, 255, 0, 0.805567)\">of</font>\n",
       "<font style=\"background: rgba(255, 255, 0, 0.805803)\">the</font>\n",
       "<font style=\"background: rgba(255, 255, 0, 0.754347)\">location</font>\n",
       "<font style=\"background: rgba(255, 255, 0, 0.792843)\">of</font>\n",
       "<font style=\"background: rgba(255, 255, 0, 0.801571)\">the</font>\n",
       "<font style=\"background: rgba(255, 255, 0, 0.799053)\">mutt</font>\n",
       "<font style=\"background: rgba(255, 255, 0, 0.772292)\">.</font>\n",
       "<font style=\"background: rgba(255, 255, 0, 0.766682)\">he</font>\n",
       "<font style=\"background: rgba(255, 255, 0, 0.815666)\">abandons</font>\n",
       "<font style=\"background: rgba(255, 255, 0, 0.819746)\">his</font>\n",
       "<font style=\"background: rgba(255, 255, 0, 0.889415)\">father</font>\n",
       "<font style=\"background: rgba(255, 255, 0, 0.855344)\">,</font>\n",
       "<font style=\"background: rgba(255, 255, 0, 0.814322)\">promising</font>\n",
       "<font style=\"background: rgba(255, 255, 0, 0.866762)\">to</font>\n",
       "<font style=\"background: rgba(255, 255, 0, 0.816993)\">talk</font>\n",
       "<font style=\"background: rgba(255, 255, 0, 0.800717)\">later</font>\n",
       "<font style=\"background: rgba(255, 255, 0, 0.831446)\">,</font>\n",
       "<font style=\"background: rgba(255, 255, 0, 0.866198)\">and</font>\n",
       "<font style=\"background: rgba(255, 255, 0, 0.870581)\">heads</font>\n",
       "<font style=\"background: rgba(255, 255, 0, 0.858078)\">to</font>\n",
       "<font style=\"background: rgba(255, 255, 0, 0.829719)\">the</font>\n",
       "<font style=\"background: rgba(255, 255, 0, 0.790315)\">mutt</font>\n",
       "<font style=\"background: rgba(255, 255, 0, 0.744555)\">'s</font>\n",
       "<font style=\"background: rgba(255, 255, 0, 0.739062)\">location</font>\n",
       "<font style=\"background: rgba(255, 255, 0, 0.746841)\">.</font>\n",
       "<font style=\"background: rgba(255, 255, 0, 0.757365)\">at</font>\n",
       "<font style=\"background: rgba(255, 255, 0, 0.838683)\">this</font>\n",
       "<font style=\"background: rgba(255, 255, 0, 0.835949)\">new</font>\n",
       "<font style=\"background: rgba(255, 255, 0, 0.868050)\">pub</font>\n",
       "<font style=\"background: rgba(255, 255, 0, 0.862756)\">,</font>\n",
       "<font style=\"background: rgba(255, 255, 0, 0.832592)\">michael</font>\n",
       "<font style=\"background: rgba(255, 255, 0, 0.802194)\">runs</font>\n",
       "<font style=\"background: rgba(255, 255, 0, 0.801464)\">into</font>\n",
       "<font style=\"background: rgba(255, 255, 0, 0.799591)\">shamie</font>\n",
       "<font style=\"background: rgba(255, 255, 0, 0.838252)\">,</font>\n",
       "<font style=\"background: rgba(255, 255, 0, 0.913360)\">who</font>\n",
       "<font style=\"background: rgba(255, 255, 0, 0.862921)\">is</font>\n",
       "<font style=\"background: rgba(255, 255, 0, 0.867801)\">making</font>\n",
       "<font style=\"background: rgba(255, 255, 0, 0.864992)\">out</font>\n",
       "<font style=\"background: rgba(255, 255, 0, 0.877987)\">with</font>\n",
       "<font style=\"background: rgba(255, 255, 0, 0.922464)\">a</font>\n",
       "<font style=\"background: rgba(255, 255, 0, 0.946448)\">girl</font>\n",
       "<font style=\"background: rgba(255, 255, 0, 0.821576)\">.</font>\n",
       "<font style=\"background: rgba(255, 255, 0, 0.798298)\">michael</font>\n",
       "<font style=\"background: rgba(255, 255, 0, 0.807428)\">,</font>\n",
       "<font style=\"background: rgba(255, 255, 0, 0.846236)\">now</font>\n",
       "<font style=\"background: rgba(255, 255, 0, 0.897781)\">angry</font>\n",
       "<font style=\"background: rgba(255, 255, 0, 0.886781)\">,</font>\n",
       "<font style=\"background: rgba(255, 255, 0, 0.922174)\">tells</font>\n",
       "<font style=\"background: rgba(255, 255, 0, 0.842467)\">him</font>\n",
       "<font style=\"background: rgba(255, 255, 0, 0.818258)\">he</font>\n",
       "<font style=\"background: rgba(255, 255, 0, 0.916199)\">needs</font>\n",
       "<font style=\"background: rgba(255, 255, 0, 0.893020)\">to</font>\n",
       "<font style=\"background: rgba(255, 255, 0, 0.848735)\">show</font>\n",
       "<font style=\"background: rgba(255, 255, 0, 0.856572)\">brenda</font>\n",
       "<font style=\"background: rgba(255, 255, 0, 0.857033)\">some</font>\n",
       "<font style=\"background: rgba(255, 255, 0, 0.880277)\">respect</font>\n",
       "<font style=\"background: rgba(255, 255, 0, 0.865381)\">and</font>\n",
       "<font style=\"background: rgba(255, 255, 0, 0.897732)\">break</font>\n",
       "<font style=\"background: rgba(255, 255, 0, 0.823387)\">off</font>\n",
       "<font style=\"background: rgba(255, 255, 0, 0.836807)\">his</font>\n",
       "<font style=\"background: rgba(255, 255, 0, 0.845854)\">ties</font>\n",
       "<font style=\"background: rgba(255, 255, 0, 0.840237)\">with</font>\n",
       "<font style=\"background: rgba(255, 255, 0, 0.892657)\">her</font>\n",
       "<font style=\"background: rgba(255, 255, 0, 0.849398)\">if</font>\n",
       "<font style=\"background: rgba(255, 255, 0, 0.802334)\">he</font>\n",
       "<font style=\"background: rgba(255, 255, 0, 0.917103)\">wishes</font>\n",
       "<font style=\"background: rgba(255, 255, 0, 0.906104)\">to</font>\n",
       "<font style=\"background: rgba(255, 255, 0, 0.878866)\">pursue</font>\n",
       "<font style=\"background: rgba(255, 255, 0, 0.816208)\">other</font>\n",
       "<font style=\"background: rgba(255, 255, 0, 0.869952)\">girls</font>\n",
       "<font style=\"background: rgba(255, 255, 0, 0.823458)\">.</font>\n",
       "<font style=\"background: rgba(255, 255, 0, 0.810012)\">michael</font>\n",
       "<font style=\"background: rgba(255, 255, 0, 0.814892)\">then</font>\n",
       "<font style=\"background: rgba(255, 255, 0, 0.844802)\">finds</font>\n",
       "<font style=\"background: rgba(255, 255, 0, 0.836820)\">the</font>\n",
       "<font style=\"background: rgba(255, 255, 0, 0.812865)\">mutt</font>\n",
       "<font style=\"background: rgba(255, 255, 0, 0.869488)\">,</font>\n",
       "<font style=\"background: rgba(255, 255, 0, 0.928373)\">who</font>\n",
       "<font style=\"background: rgba(255, 255, 0, 0.875535)\">is</font>\n",
       "<font style=\"background: rgba(255, 255, 0, 0.911255)\">having</font>\n",
       "<font style=\"background: rgba(255, 255, 0, 0.914260)\">a</font>\n",
       "<font style=\"background: rgba(255, 255, 0, 0.835398)\">drink</font>\n",
       "<font style=\"background: rgba(255, 255, 0, 0.806985)\">with</font>\n",
       "<font style=\"background: rgba(255, 255, 0, 0.807153)\">his</font>\n",
       "<font style=\"background: rgba(255, 255, 0, 0.835942)\">associate</font>\n",
       "<font style=\"background: rgba(255, 255, 0, 0.841523)\">dinny</font>\n",
       "<font style=\"background: rgba(255, 255, 0, 0.769413)\">.</font>\n",
       "<font style=\"background: rgba(255, 255, 0, 0.757726)\">he</font>\n",
       "<font style=\"background: rgba(255, 255, 0, 0.847468)\">asks</font>\n",
       "<font style=\"background: rgba(255, 255, 0, 0.867831)\">the</font>\n",
       "<font style=\"background: rgba(255, 255, 0, 0.867054)\">mutt</font>\n",
       "<font style=\"background: rgba(255, 255, 0, 0.888535)\">for</font>\n",
       "<font style=\"background: rgba(255, 255, 0, 0.873700)\">a</font>\n",
       "<font style=\"background: rgba(255, 255, 0, 0.805567)\">loan</font>\n",
       "<font style=\"background: rgba(255, 255, 0, 0.830133)\">,</font>\n",
       "<font style=\"background: rgba(255, 255, 0, 0.911109)\">but</font>\n",
       "<font style=\"background: rgba(255, 255, 0, 0.873335)\">is</font>\n",
       "<font style=\"background: rgba(255, 255, 0, 0.856547)\">refused</font>\n",
       "<font style=\"background: rgba(255, 255, 0, 0.797571)\">.</font>\n",
       "<font style=\"background: rgba(255, 255, 0, 0.825311)\">giving</font>\n",
       "<font style=\"background: rgba(255, 255, 0, 0.784350)\">up</font>\n",
       "<font style=\"background: rgba(255, 255, 0, 0.823363)\">,</font>\n",
       "<font style=\"background: rgba(255, 255, 0, 0.821232)\">michael</font>\n",
       "<font style=\"background: rgba(255, 255, 0, 0.826125)\">begins</font>\n",
       "<font style=\"background: rgba(255, 255, 0, 0.871518)\">to</font>\n",
       "<font style=\"background: rgba(255, 255, 0, 0.813243)\">drink</font>\n",
       "<font style=\"background: rgba(255, 255, 0, 0.755038)\">at</font>\n",
       "<font style=\"background: rgba(255, 255, 0, 0.842695)\">the</font>\n",
       "<font style=\"background: rgba(255, 255, 0, 0.907425)\">bar</font>\n",
       "<font style=\"background: rgba(255, 255, 0, 0.886792)\">only</font>\n",
       "<font style=\"background: rgba(255, 255, 0, 0.896933)\">to</font>\n",
       "<font style=\"background: rgba(255, 255, 0, 0.867240)\">be</font>\n",
       "<font style=\"background: rgba(255, 255, 0, 0.849935)\">_UNK</font>\n",
       "<font style=\"background: rgba(255, 255, 0, 0.841564)\">by</font>\n",
       "<font style=\"background: rgba(255, 255, 0, 0.829381)\">an</font>\n",
       "<font style=\"background: rgba(255, 255, 0, 0.905587)\">angry</font>\n",
       "<font style=\"background: rgba(255, 255, 0, 0.847704)\">shamie</font>\n",
       "<font style=\"background: rgba(255, 255, 0, 0.799679)\">.</font>\n",
       "<font style=\"background: rgba(255, 255, 0, 0.796474)\">michael</font>\n",
       "<font style=\"background: rgba(255, 255, 0, 0.790188)\">_UNK</font>\n",
       "<font style=\"background: rgba(255, 255, 0, 0.796528)\">shamie</font>\n",
       "<font style=\"background: rgba(255, 255, 0, 0.822400)\">and</font>\n",
       "<font style=\"background: rgba(255, 255, 0, 0.795331)\">demands</font>\n",
       "<font style=\"background: rgba(255, 255, 0, 0.762722)\">he</font>\n",
       "<font style=\"background: rgba(255, 255, 0, 0.871139)\">break</font>\n",
       "<font style=\"background: rgba(255, 255, 0, 0.794893)\">up</font>\n",
       "<font style=\"background: rgba(255, 255, 0, 0.782564)\">with</font>\n",
       "<font style=\"background: rgba(255, 255, 0, 0.796992)\">brenda</font>\n",
       "<font style=\"background: rgba(255, 255, 0, 0.820392)\">,</font>\n",
       "<font style=\"background: rgba(255, 255, 0, 0.861684)\">but</font>\n",
       "<font style=\"background: rgba(255, 255, 0, 0.786180)\">he</font>\n",
       "<font style=\"background: rgba(255, 255, 0, 0.888266)\">must</font>\n",
       "<font style=\"background: rgba(255, 255, 0, 0.924615)\">let</font>\n",
       "<font style=\"background: rgba(255, 255, 0, 0.878642)\">her</font>\n",
       "<font style=\"background: rgba(255, 255, 0, 0.799222)\">down</font>\n",
       "<font style=\"background: rgba(255, 255, 0, 0.808035)\">_UNK</font>\n",
       "<font style=\"background: rgba(255, 255, 0, 0.767891)\">.</font>\n",
       "<font style=\"background: rgba(255, 255, 0, 0.785349)\">_UNK</font>\n",
       "<font style=\"background: rgba(255, 255, 0, 0.781323)\">off</font>\n",
       "<font style=\"background: rgba(255, 255, 0, 0.818594)\">,</font>\n",
       "<font style=\"background: rgba(255, 255, 0, 0.827796)\">he</font>\n",
       "<font style=\"background: rgba(255, 255, 0, 0.896377)\">is</font>\n",
       "<font style=\"background: rgba(255, 255, 0, 0.852785)\">stopped</font>\n",
       "<font style=\"background: rgba(255, 255, 0, 0.788465)\">by</font>\n",
       "<font style=\"background: rgba(255, 255, 0, 0.808307)\">the</font>\n",
       "<font style=\"background: rgba(255, 255, 0, 0.806833)\">mutt</font>\n",
       "<font style=\"background: rgba(255, 255, 0, 0.854446)\">,</font>\n",
       "<font style=\"background: rgba(255, 255, 0, 0.901657)\">who</font>\n",
       "<font style=\"background: rgba(255, 255, 0, 0.912667)\">asks</font>\n",
       "<font style=\"background: rgba(255, 255, 0, 0.923334)\">if</font>\n",
       "<font style=\"background: rgba(255, 255, 0, 0.834564)\">michael</font>\n",
       "<font style=\"background: rgba(255, 255, 0, 0.756353)\">will</font>\n",
       "<font style=\"background: rgba(255, 255, 0, 0.773588)\">join</font>\n",
       "<font style=\"background: rgba(255, 255, 0, 0.827707)\">him</font>\n",
       "<font style=\"background: rgba(255, 255, 0, 0.886676)\">and</font>\n",
       "<font style=\"background: rgba(255, 255, 0, 0.898677)\">dinny</font>\n",
       "<font style=\"background: rgba(255, 255, 0, 0.908282)\">in</font>\n",
       "<font style=\"background: rgba(255, 255, 0, 0.855355)\">a</font>\n",
       "<font style=\"background: rgba(255, 255, 0, 0.782975)\">_UNK</font>\n",
       "<font style=\"background: rgba(255, 255, 0, 0.763139)\">.</font>\n",
       "<font style=\"background: rgba(255, 255, 0, 0.796004)\">the</font>\n",
       "<font style=\"background: rgba(255, 255, 0, 0.771158)\">money</font>\n",
       "<font style=\"background: rgba(255, 255, 0, 0.809407)\">_UNK</font>\n",
       "<font style=\"background: rgba(255, 255, 0, 0.767228)\">will</font>\n",
       "<font style=\"background: rgba(255, 255, 0, 0.761843)\">pay</font>\n",
       "<font style=\"background: rgba(255, 255, 0, 0.801493)\">off</font>\n",
       "<font style=\"background: rgba(255, 255, 0, 0.784717)\">michael</font>\n",
       "<font style=\"background: rgba(255, 255, 0, 0.732157)\">'s</font>\n",
       "<font style=\"background: rgba(255, 255, 0, 0.820353)\">debt</font>\n",
       "<font style=\"background: rgba(255, 255, 0, 0.848393)\">,</font>\n",
       "<font style=\"background: rgba(255, 255, 0, 0.892655)\">but</font>\n",
       "<font style=\"background: rgba(255, 255, 0, 0.846212)\">he</font>\n",
       "<font style=\"background: rgba(255, 255, 0, 0.904027)\">wo</font>\n",
       "<font style=\"background: rgba(255, 255, 0, 0.876019)\">n't</font>\n",
       "<font style=\"background: rgba(255, 255, 0, 0.833635)\">get</font>\n",
       "<font style=\"background: rgba(255, 255, 0, 0.813468)\">it</font>\n",
       "<font style=\"background: rgba(255, 255, 0, 0.835654)\">until</font>\n",
       "<font style=\"background: rgba(255, 255, 0, 0.844106)\">morning</font>\n",
       "<font style=\"background: rgba(255, 255, 0, 0.801613)\">.</font>\n",
       "<font style=\"background: rgba(255, 255, 0, 0.793827)\">michael</font>\n",
       "<font style=\"background: rgba(255, 255, 0, 0.773353)\">agrees</font>\n",
       "<font style=\"background: rgba(255, 255, 0, 0.786516)\">,</font>\n",
       "<font style=\"background: rgba(255, 255, 0, 0.841549)\">and</font>\n",
       "<font style=\"background: rgba(255, 255, 0, 0.859659)\">the</font>\n",
       "<font style=\"background: rgba(255, 255, 0, 0.860666)\">three</font>\n",
       "<font style=\"background: rgba(255, 255, 0, 0.822312)\">head</font>\n",
       "<font style=\"background: rgba(255, 255, 0, 0.805998)\">out</font>\n",
       "<font style=\"background: rgba(255, 255, 0, 0.767165)\">.</font>\n",
       "<font style=\"background: rgba(255, 255, 0, 0.813373)\">the</font>\n",
       "<font style=\"background: rgba(255, 255, 0, 0.821457)\">_UNK</font>\n"
      ],
      "text/plain": [
       "<IPython.core.display.HTML object>"
      ]
     },
     "metadata": {},
     "output_type": "display_data"
    }
   ],
   "source": [
    "with open('visual.html','r') as f:\n",
    "    text = f.read()\n",
    "    display(HTML(text))"
   ]
  },
  {
   "cell_type": "code",
   "execution_count": 23,
   "metadata": {},
   "outputs": [
    {
     "name": "stdout",
     "output_type": "stream",
     "text": [
      "<font style=\"background: rgba(255, 255, 0, 0.863038)\">the</font>\r\n",
      "<font style=\"background: rgba(255, 255, 0, 0.881508)\">film</font>\r\n",
      "<font style=\"background: rgba(255, 255, 0, 0.872196)\">begins</font>\r\n",
      "<font style=\"background: rgba(255, 255, 0, 0.828863)\">with</font>\r\n",
      "<font style=\"background: rgba(255, 255, 0, 0.810628)\">michael</font>\r\n",
      "<font style=\"background: rgba(255, 255, 0, 0.785146)\">_UNK</font>\r\n",
      "<font style=\"background: rgba(255, 255, 0, 0.833928)\">,</font>\r\n",
      "<font style=\"background: rgba(255, 255, 0, 0.841206)\">a</font>\r\n",
      "<font style=\"background: rgba(255, 255, 0, 0.768698)\">_UNK</font>\r\n",
      "<font style=\"background: rgba(255, 255, 0, 0.784073)\">_UNK</font>\r\n"
     ]
    }
   ],
   "source": [
    "! head visual.html"
   ]
  }
 ],
 "metadata": {
  "kernelspec": {
   "display_name": "Python 2",
   "language": "python",
   "name": "python2"
  },
  "language_info": {
   "codemirror_mode": {
    "name": "ipython",
    "version": 2
   },
   "file_extension": ".py",
   "mimetype": "text/x-python",
   "name": "python",
   "nbconvert_exporter": "python",
   "pygments_lexer": "ipython2",
   "version": "2.7.14"
  }
 },
 "nbformat": 4,
 "nbformat_minor": 2
}
