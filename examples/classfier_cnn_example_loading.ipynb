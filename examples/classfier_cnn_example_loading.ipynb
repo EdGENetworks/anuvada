{
 "cells": [
  {
   "cell_type": "markdown",
   "metadata": {},
   "source": [
    "### Importing libraries"
   ]
  },
  {
   "cell_type": "code",
   "execution_count": 1,
   "metadata": {
    "collapsed": true
   },
   "outputs": [],
   "source": [
    "import anuvada\n",
    "import numpy as np\n",
    "import torch\n",
    "import pandas as pd"
   ]
  },
  {
   "cell_type": "code",
   "execution_count": 2,
   "metadata": {
    "collapsed": true
   },
   "outputs": [],
   "source": [
    "from anuvada.datasets.data_loader import CreateDataset\n",
    "from anuvada.datasets.data_loader import LoadData"
   ]
  },
  {
   "cell_type": "code",
   "execution_count": 3,
   "metadata": {
    "collapsed": true
   },
   "outputs": [],
   "source": [
    "from anuvada.models.classification_cnn import ClassificationCNN"
   ]
  },
  {
   "cell_type": "code",
   "execution_count": 4,
   "metadata": {
    "collapsed": true
   },
   "outputs": [],
   "source": [
    "l = LoadData()"
   ]
  },
  {
   "cell_type": "code",
   "execution_count": 5,
   "metadata": {
    "collapsed": true
   },
   "outputs": [],
   "source": [
    "x, y, token2id, label2id, lengths_mask, class_counts = l.load_data_from_path('/home/sannu/Personal_Projects/data/')"
   ]
  },
  {
   "cell_type": "code",
   "execution_count": 6,
   "metadata": {
    "collapsed": true
   },
   "outputs": [],
   "source": [
    "id2token = {v: k for k, v in token2id.iteritems()}"
   ]
  },
  {
   "cell_type": "markdown",
   "metadata": {},
   "source": [
    "### Change into torch vectors"
   ]
  },
  {
   "cell_type": "code",
   "execution_count": 7,
   "metadata": {
    "collapsed": true
   },
   "outputs": [],
   "source": [
    "x = torch.from_numpy(x)"
   ]
  },
  {
   "cell_type": "code",
   "execution_count": 8,
   "metadata": {
    "collapsed": true
   },
   "outputs": [],
   "source": [
    "y = torch.from_numpy(np.array(y))"
   ]
  },
  {
   "cell_type": "code",
   "execution_count": 9,
   "metadata": {},
   "outputs": [
    {
     "data": {
      "text/plain": [
       "32898"
      ]
     },
     "execution_count": 9,
     "metadata": {},
     "output_type": "execute_result"
    }
   ],
   "source": [
    "len(id2token)"
   ]
  },
  {
   "cell_type": "markdown",
   "metadata": {},
   "source": [
    "### Create attention classifier"
   ]
  },
  {
   "cell_type": "code",
   "execution_count": 10,
   "metadata": {
    "collapsed": true
   },
   "outputs": [],
   "source": [
    "acf = ClassificationCNN(vocab_size=len(token2id),embed_dim=300,num_classes=len(label2id),\n",
    "                        word2vec_path='/home/sannu/Personal_Projects/data/word2vec_300_5_5')"
   ]
  },
  {
   "cell_type": "code",
   "execution_count": 11,
   "metadata": {
    "collapsed": true
   },
   "outputs": [],
   "source": [
    "from anuvada.utils import save_model, load_model"
   ]
  },
  {
   "cell_type": "code",
   "execution_count": 12,
   "metadata": {},
   "outputs": [
    {
     "name": "stdout",
     "output_type": "stream",
     "text": [
      "Model loaded.\n"
     ]
    }
   ],
   "source": [
    "load_model(acf, '/home/sannu/Personal_Projects/data/model_epoch8.pth')"
   ]
  },
  {
   "cell_type": "code",
   "execution_count": 14,
   "metadata": {},
   "outputs": [],
   "source": [
    "# loss = acf.fit(x,y,batch_size=64,epochs=1,validation_split=0.2,run_on='gpu')"
   ]
  },
  {
   "cell_type": "markdown",
   "metadata": {},
   "source": [
    "### Predicting"
   ]
  },
  {
   "cell_type": "markdown",
   "metadata": {},
   "source": [
    "Prediction needs more than one minibatch at this moment."
   ]
  },
  {
   "cell_type": "code",
   "execution_count": 28,
   "metadata": {},
   "outputs": [],
   "source": [
    "predictions, df = acf.compute_saliency_map(x[-3674],1,'visual.html',id2token)"
   ]
  },
  {
   "cell_type": "code",
   "execution_count": 29,
   "metadata": {
    "collapsed": true
   },
   "outputs": [],
   "source": [
    "from IPython.core.display import display, HTML"
   ]
  },
  {
   "cell_type": "code",
   "execution_count": 30,
   "metadata": {},
   "outputs": [
    {
     "data": {
      "text/plain": [
       "array([[ 0.14295784,  0.85704219]], dtype=float32)"
      ]
     },
     "execution_count": 30,
     "metadata": {},
     "output_type": "execute_result"
    }
   ],
   "source": [
    "predictions"
   ]
  },
  {
   "cell_type": "code",
   "execution_count": 31,
   "metadata": {},
   "outputs": [
    {
     "data": {
      "text/html": [
       "<font style=\"background: rgba(255, 255, 0, 0.097433)\">a</font>\n",
       "<font style=\"background: rgba(255, 255, 0, 0.000009)\">chemist</font>\n",
       "<font style=\"background: rgba(255, 255, 0, 0.000000)\">develops</font>\n",
       "<font style=\"background: rgba(255, 255, 0, 0.097433)\">a</font>\n",
       "<font style=\"background: rgba(255, 255, 0, 0.041884)\">fabric</font>\n",
       "<font style=\"background: rgba(255, 255, 0, 0.066961)\">that</font>\n",
       "<font style=\"background: rgba(255, 255, 0, 0.346586)\">never</font>\n",
       "<font style=\"background: rgba(255, 255, 0, 0.510164)\">gets</font>\n",
       "<font style=\"background: rgba(255, 255, 0, 0.691525)\">dirty</font>\n",
       "<font style=\"background: rgba(255, 255, 0, 0.322709)\">or</font>\n",
       "<font style=\"background: rgba(255, 255, 0, 0.174090)\">wears</font>\n",
       "<font style=\"background: rgba(255, 255, 0, 0.085466)\">out</font>\n",
       "<font style=\"background: rgba(255, 255, 0, 0.570947)\">,</font>\n",
       "<font style=\"background: rgba(255, 255, 0, 0.000000)\">but</font>\n",
       "<font style=\"background: rgba(255, 255, 0, 0.161799)\">it</font>\n",
       "<font style=\"background: rgba(255, 255, 0, 1.000000)\">is</font>\n",
       "<font style=\"background: rgba(255, 255, 0, 0.033662)\">seen</font>\n",
       "<font style=\"background: rgba(255, 255, 0, 0.166736)\">as</font>\n",
       "<font style=\"background: rgba(255, 255, 0, 0.097433)\">a</font>\n",
       "<font style=\"background: rgba(255, 255, 0, 0.002344)\">threat</font>\n",
       "<font style=\"background: rgba(255, 255, 0, 0.006834)\">to</font>\n",
       "<font style=\"background: rgba(255, 255, 0, 0.347296)\">the</font>\n",
       "<font style=\"background: rgba(255, 255, 0, 0.038538)\">survival</font>\n",
       "<font style=\"background: rgba(255, 255, 0, 0.129117)\">of</font>\n",
       "<font style=\"background: rgba(255, 255, 0, 0.057357)\">various</font>\n",
       "<font style=\"background: rgba(255, 255, 0, 0.015563)\">industries</font>\n",
       "<font style=\"background: rgba(255, 255, 0, 0.359852)\">.</font>\n",
       "<font style=\"background: rgba(255, 255, 0, 0.144721)\">in</font>\n",
       "<font style=\"background: rgba(255, 255, 0, 0.181920)\">this</font>\n",
       "<font style=\"background: rgba(255, 255, 0, 0.105154)\">delightful</font>\n",
       "<font style=\"background: rgba(255, 255, 0, 0.081990)\">ealing</font>\n",
       "<font style=\"background: rgba(255, 255, 0, 0.089850)\">studios</font>\n",
       "<font style=\"background: rgba(255, 255, 0, 0.093788)\">comedy</font>\n",
       "<font style=\"background: rgba(255, 255, 0, 0.570947)\">,</font>\n",
       "<font style=\"background: rgba(255, 255, 0, 0.019410)\">guinness</font>\n",
       "<font style=\"background: rgba(255, 255, 0, 1.000000)\">is</font>\n",
       "<font style=\"background: rgba(255, 255, 0, 0.036180)\">marvelous</font>\n",
       "<font style=\"background: rgba(255, 255, 0, 0.166736)\">as</font>\n",
       "<font style=\"background: rgba(255, 255, 0, 0.347296)\">the</font>\n",
       "<font style=\"background: rgba(255, 255, 0, 0.092309)\">mild</font>\n",
       "<font style=\"background: rgba(255, 255, 0, 0.042280)\">-</font>\n",
       "<font style=\"background: rgba(255, 255, 0, 0.048247)\">mannered</font>\n",
       "<font style=\"background: rgba(255, 255, 0, 0.000000)\">but</font>\n",
       "<font style=\"background: rgba(255, 255, 0, 0.000000)\">persistent</font>\n",
       "<font style=\"background: rgba(255, 255, 0, 0.000009)\">chemist</font>\n",
       "<font style=\"background: rgba(255, 255, 0, 0.359852)\">.</font>\n",
       "<font style=\"background: rgba(255, 255, 0, 0.011625)\">greenwood</font>\n",
       "<font style=\"background: rgba(255, 255, 0, 0.570947)\">,</font>\n",
       "<font style=\"background: rgba(255, 255, 0, 0.038546)\">with</font>\n",
       "<font style=\"background: rgba(255, 255, 0, 0.162614)\">her</font>\n",
       "<font style=\"background: rgba(255, 255, 0, 0.034567)\">sensual</font>\n",
       "<font style=\"background: rgba(255, 255, 0, 0.019099)\">voice</font>\n",
       "<font style=\"background: rgba(255, 255, 0, 0.570947)\">,</font>\n",
       "<font style=\"background: rgba(255, 255, 0, 0.035240)\">plays</font>\n",
       "<font style=\"background: rgba(255, 255, 0, 0.347296)\">the</font>\n",
       "<font style=\"background: rgba(255, 255, 0, 0.265294)\">love</font>\n",
       "<font style=\"background: rgba(255, 255, 0, 0.168112)\">interest</font>\n",
       "<font style=\"background: rgba(255, 255, 0, 0.216245)\">;</font>\n",
       "<font style=\"background: rgba(255, 255, 0, 0.078973)\">parker</font>\n",
       "<font style=\"background: rgba(255, 255, 0, 1.000000)\">is</font>\n",
       "<font style=\"background: rgba(255, 255, 0, 0.162614)\">her</font>\n",
       "<font style=\"background: rgba(255, 255, 0, 0.123537)\">harried</font>\n",
       "<font style=\"background: rgba(255, 255, 0, 0.042792)\">father</font>\n",
       "<font style=\"background: rgba(255, 255, 0, 0.359852)\">.</font>\n",
       "<font style=\"background: rgba(255, 255, 0, 0.086413)\">thesiger</font>\n",
       "<font style=\"background: rgba(255, 255, 0, 1.000000)\">is</font>\n",
       "<font style=\"background: rgba(255, 255, 0, 0.140516)\">amusing</font>\n",
       "<font style=\"background: rgba(255, 255, 0, 0.166736)\">as</font>\n",
       "<font style=\"background: rgba(255, 255, 0, 0.097433)\">a</font>\n",
       "<font style=\"background: rgba(255, 255, 0, 0.009624)\">patriarch</font>\n",
       "<font style=\"background: rgba(255, 255, 0, 0.129117)\">of</font>\n",
       "<font style=\"background: rgba(255, 255, 0, 0.347296)\">the</font>\n",
       "<font style=\"background: rgba(255, 255, 0, 0.041884)\">fabric</font>\n",
       "<font style=\"background: rgba(255, 255, 0, 0.000000)\">industry</font>\n",
       "<font style=\"background: rgba(255, 255, 0, 0.359852)\">.</font>\n",
       "<font style=\"background: rgba(255, 255, 0, 0.101841)\">while</font>\n",
       "<font style=\"background: rgba(255, 255, 0, 0.402563)\">telling</font>\n",
       "<font style=\"background: rgba(255, 255, 0, 0.419500)\">an</font>\n",
       "<font style=\"background: rgba(255, 255, 0, 0.506560)\">engaging</font>\n",
       "<font style=\"background: rgba(255, 255, 0, 0.167115)\">story</font>\n",
       "<font style=\"background: rgba(255, 255, 0, 0.570947)\">,</font>\n",
       "<font style=\"background: rgba(255, 255, 0, 0.347296)\">the</font>\n",
       "<font style=\"background: rgba(255, 255, 0, 0.051679)\">film</font>\n",
       "<font style=\"background: rgba(255, 255, 0, 0.081504)\">also</font>\n",
       "<font style=\"background: rgba(255, 255, 0, 0.061811)\">raises</font>\n",
       "<font style=\"background: rgba(255, 255, 0, 0.090012)\">some</font>\n",
       "<font style=\"background: rgba(255, 255, 0, 0.092218)\">intriguing</font>\n",
       "<font style=\"background: rgba(255, 255, 0, 0.093124)\">questions</font>\n",
       "<font style=\"background: rgba(255, 255, 0, 0.028784)\">about</font>\n",
       "<font style=\"background: rgba(255, 255, 0, 0.012309)\">science</font>\n",
       "<font style=\"background: rgba(255, 255, 0, 0.570947)\">,</font>\n",
       "<font style=\"background: rgba(255, 255, 0, 0.347296)\">the</font>\n",
       "<font style=\"background: rgba(255, 255, 0, 0.102567)\">economy</font>\n",
       "<font style=\"background: rgba(255, 255, 0, 0.570947)\">,</font>\n",
       "<font style=\"background: rgba(255, 255, 0, 0.264834)\">and</font>\n",
       "<font style=\"background: rgba(255, 255, 0, 0.562009)\">politics</font>\n",
       "<font style=\"background: rgba(255, 255, 0, 0.359852)\">.</font>\n",
       "<font style=\"background: rgba(255, 255, 0, 0.161799)\">it</font>\n",
       "<font style=\"background: rgba(255, 255, 0, 1.000000)\">is</font>\n",
       "<font style=\"background: rgba(255, 255, 0, 0.766467)\">adeptly</font>\n",
       "<font style=\"background: rgba(255, 255, 0, 0.607864)\">directed</font>\n",
       "<font style=\"background: rgba(255, 255, 0, 0.468207)\">by</font>\n",
       "<font style=\"background: rgba(255, 255, 0, 0.246501)\">mackendrick</font>\n",
       "<font style=\"background: rgba(255, 255, 0, 0.570947)\">,</font>\n",
       "<font style=\"background: rgba(255, 255, 0, 0.092114)\">who</font>\n",
       "<font style=\"background: rgba(255, 255, 0, 0.081487)\">would</font>\n",
       "<font style=\"background: rgba(255, 255, 0, 0.028239)\">go</font>\n",
       "<font style=\"background: rgba(255, 255, 0, 0.020811)\">on</font>\n",
       "<font style=\"background: rgba(255, 255, 0, 0.006834)\">to</font>\n",
       "<font style=\"background: rgba(255, 255, 0, 0.009783)\">make</font>\n",
       "<font style=\"background: rgba(255, 255, 0, 0.029898)\">\\the</font>\n",
       "<font style=\"background: rgba(255, 255, 0, 0.099720)\">_UNK</font>\n",
       "<font style=\"background: rgba(255, 255, 0, 0.157594)\">\"</font>\n",
       "<font style=\"background: rgba(255, 255, 0, 0.264834)\">and</font>\n",
       "<font style=\"background: rgba(255, 255, 0, 0.347296)\">the</font>\n",
       "<font style=\"background: rgba(255, 255, 0, 0.038151)\">sublime</font>\n",
       "<font style=\"background: rgba(255, 255, 0, 0.060304)\">\\\"sweet</font>\n",
       "<font style=\"background: rgba(255, 255, 0, 0.056337)\">smell</font>\n",
       "<font style=\"background: rgba(255, 255, 0, 0.129117)\">of</font>\n",
       "<font style=\"background: rgba(255, 255, 0, 0.099720)\">_UNK</font>\n",
       "<font style=\"background: rgba(255, 255, 0, 0.157594)\">\"</font>\n",
       "<font style=\"background: rgba(255, 255, 0, 0.055710)\">later</font>\n",
       "<font style=\"background: rgba(255, 255, 0, 0.144721)\">in</font>\n",
       "<font style=\"background: rgba(255, 255, 0, 0.347296)\">the</font>\n",
       "<font style=\"background: rgba(255, 255, 0, 0.132586)\">1950s</font>\n",
       "<font style=\"background: rgba(255, 255, 0, 0.359852)\">.</font>\n",
       "<font style=\"background: rgba(255, 255, 0, 0.157594)\">\"</font>\n"
      ],
      "text/plain": [
       "<IPython.core.display.HTML object>"
      ]
     },
     "metadata": {},
     "output_type": "display_data"
    }
   ],
   "source": [
    "with open('visual.html','r') as f:\n",
    "    text = f.read()\n",
    "    display(HTML(text))"
   ]
  },
  {
   "cell_type": "code",
   "execution_count": 32,
   "metadata": {
    "collapsed": true
   },
   "outputs": [],
   "source": [
    "predictions, df = acf.compute_saliency_map(x[-2398],1,'visual.html',id2token)"
   ]
  },
  {
   "cell_type": "code",
   "execution_count": 33,
   "metadata": {},
   "outputs": [
    {
     "data": {
      "text/plain": [
       "array([[ 0.99127835,  0.00872163]], dtype=float32)"
      ]
     },
     "execution_count": 33,
     "metadata": {},
     "output_type": "execute_result"
    }
   ],
   "source": [
    "predictions"
   ]
  },
  {
   "cell_type": "code",
   "execution_count": 34,
   "metadata": {},
   "outputs": [
    {
     "data": {
      "text/html": [
       "<font style=\"background: rgba(255, 255, 0, 0.000260)\">about</font>\n",
       "<font style=\"background: rgba(255, 255, 0, 0.020831)\">twenty</font>\n",
       "<font style=\"background: rgba(255, 255, 0, 0.085486)\">minutes</font>\n",
       "<font style=\"background: rgba(255, 255, 0, 0.064756)\">into</font>\n",
       "<font style=\"background: rgba(255, 255, 0, 0.055589)\">this</font>\n",
       "<font style=\"background: rgba(255, 255, 0, 0.038103)\">movie</font>\n",
       "<font style=\"background: rgba(255, 255, 0, 0.031004)\">,</font>\n",
       "<font style=\"background: rgba(255, 255, 0, 0.000000)\">i</font>\n",
       "<font style=\"background: rgba(255, 255, 0, 0.091940)\">was</font>\n",
       "<font style=\"background: rgba(255, 255, 0, 0.001511)\">already</font>\n",
       "<font style=\"background: rgba(255, 255, 0, 0.002162)\">bored</font>\n",
       "<font style=\"background: rgba(255, 255, 0, 0.498355)\">.</font>\n",
       "<font style=\"background: rgba(255, 255, 0, 0.000000)\">quite</font>\n",
       "<font style=\"background: rgba(255, 255, 0, 0.000173)\">simply</font>\n",
       "<font style=\"background: rgba(255, 255, 0, 0.031004)\">,</font>\n",
       "<font style=\"background: rgba(255, 255, 0, 0.012597)\">these</font>\n",
       "<font style=\"background: rgba(255, 255, 0, 0.035184)\">characters</font>\n",
       "<font style=\"background: rgba(255, 255, 0, 0.202190)\">were</font>\n",
       "<font style=\"background: rgba(255, 255, 0, 0.358335)\">fairly</font>\n",
       "<font style=\"background: rgba(255, 255, 0, 1.000000)\">dull</font>\n",
       "<font style=\"background: rgba(255, 255, 0, 0.498355)\">.</font>\n",
       "<font style=\"background: rgba(255, 255, 0, 0.153285)\">occasionally</font>\n",
       "<font style=\"background: rgba(255, 255, 0, 0.031004)\">,</font>\n",
       "<font style=\"background: rgba(255, 255, 0, 0.013369)\">something</font>\n",
       "<font style=\"background: rgba(255, 255, 0, 0.006380)\">enjoyable</font>\n",
       "<font style=\"background: rgba(255, 255, 0, 0.012390)\">would</font>\n",
       "<font style=\"background: rgba(255, 255, 0, 0.000795)\">happen</font>\n",
       "<font style=\"background: rgba(255, 255, 0, 0.031004)\">,</font>\n",
       "<font style=\"background: rgba(255, 255, 0, 0.000000)\">but</font>\n",
       "<font style=\"background: rgba(255, 255, 0, 0.000000)\">then</font>\n",
       "<font style=\"background: rgba(255, 255, 0, 0.000000)\">things</font>\n",
       "<font style=\"background: rgba(255, 255, 0, 0.012390)\">would</font>\n",
       "<font style=\"background: rgba(255, 255, 0, 0.007635)\">slow</font>\n",
       "<font style=\"background: rgba(255, 255, 0, 0.008658)\">down</font>\n",
       "<font style=\"background: rgba(255, 255, 0, 0.005037)\">again</font>\n",
       "<font style=\"background: rgba(255, 255, 0, 0.498355)\">.</font>\n",
       "<font style=\"background: rgba(255, 255, 0, 0.005325)\">fortunately</font>\n",
       "<font style=\"background: rgba(255, 255, 0, 0.031004)\">,</font>\n",
       "<font style=\"background: rgba(255, 255, 0, 0.049135)\">my</font>\n",
       "<font style=\"background: rgba(255, 255, 0, 0.054086)\">patience</font>\n",
       "<font style=\"background: rgba(255, 255, 0, 0.091940)\">was</font>\n",
       "<font style=\"background: rgba(255, 255, 0, 0.041876)\">eventually</font>\n",
       "<font style=\"background: rgba(255, 255, 0, 0.016902)\">rewarded</font>\n",
       "<font style=\"background: rgba(255, 255, 0, 0.031004)\">,</font>\n",
       "<font style=\"background: rgba(255, 255, 0, 0.013062)\">and</font>\n",
       "<font style=\"background: rgba(255, 255, 0, 0.041336)\">the</font>\n",
       "<font style=\"background: rgba(255, 255, 0, 0.000000)\">ending</font>\n",
       "<font style=\"background: rgba(255, 255, 0, 0.000000)\">to</font>\n",
       "<font style=\"background: rgba(255, 255, 0, 0.055589)\">this</font>\n",
       "<font style=\"background: rgba(255, 255, 0, 0.038103)\">movie</font>\n",
       "<font style=\"background: rgba(255, 255, 0, 0.091940)\">was</font>\n",
       "<font style=\"background: rgba(255, 255, 0, 0.023014)\">n't</font>\n",
       "<font style=\"background: rgba(255, 255, 0, 0.038177)\">bad</font>\n",
       "<font style=\"background: rgba(255, 255, 0, 0.011440)\">at</font>\n",
       "<font style=\"background: rgba(255, 255, 0, 0.015158)\">all</font>\n",
       "<font style=\"background: rgba(255, 255, 0, 0.498355)\">.</font>\n",
       "<font style=\"background: rgba(255, 255, 0, 0.002768)\">however</font>\n",
       "<font style=\"background: rgba(255, 255, 0, 0.031004)\">,</font>\n",
       "<font style=\"background: rgba(255, 255, 0, 0.005498)\">it</font>\n",
       "<font style=\"background: rgba(255, 255, 0, 0.091940)\">was</font>\n",
       "<font style=\"background: rgba(255, 255, 0, 0.031751)\">by</font>\n",
       "<font style=\"background: rgba(255, 255, 0, 0.041337)\">no</font>\n",
       "<font style=\"background: rgba(255, 255, 0, 0.060944)\">means</font>\n",
       "<font style=\"background: rgba(255, 255, 0, 0.022846)\">good</font>\n",
       "<font style=\"background: rgba(255, 255, 0, 0.014929)\">enough</font>\n",
       "<font style=\"background: rgba(255, 255, 0, 0.000000)\">to</font>\n",
       "<font style=\"background: rgba(255, 255, 0, 0.006997)\">justify</font>\n",
       "<font style=\"background: rgba(255, 255, 0, 0.009239)\">sitting</font>\n",
       "<font style=\"background: rgba(255, 255, 0, 0.026963)\">through</font>\n",
       "<font style=\"background: rgba(255, 255, 0, 0.041336)\">the</font>\n",
       "<font style=\"background: rgba(255, 255, 0, 0.029847)\">first</font>\n",
       "<font style=\"background: rgba(255, 255, 0, 0.018755)\">ninety</font>\n",
       "<font style=\"background: rgba(255, 255, 0, 0.085486)\">minutes</font>\n",
       "<font style=\"background: rgba(255, 255, 0, 0.498355)\">.</font>\n",
       "<font style=\"background: rgba(255, 255, 0, 0.000000)\">so</font>\n",
       "<font style=\"background: rgba(255, 255, 0, 0.031004)\">,</font>\n",
       "<font style=\"background: rgba(255, 255, 0, 0.000000)\">i</font>\n",
       "<font style=\"background: rgba(255, 255, 0, 0.012390)\">would</font>\n",
       "<font style=\"background: rgba(255, 255, 0, 0.003240)\">say</font>\n",
       "<font style=\"background: rgba(255, 255, 0, 0.002735)\">that</font>\n",
       "<font style=\"background: rgba(255, 255, 0, 0.041336)\">the</font>\n",
       "<font style=\"background: rgba(255, 255, 0, 0.038103)\">movie</font>\n",
       "<font style=\"background: rgba(255, 255, 0, 0.091940)\">was</font>\n",
       "<font style=\"background: rgba(255, 255, 0, 0.027372)\">mediocre</font>\n",
       "<font style=\"background: rgba(255, 255, 0, 0.000000)\">overall</font>\n",
       "<font style=\"background: rgba(255, 255, 0, 0.031004)\">,</font>\n",
       "<font style=\"background: rgba(255, 255, 0, 0.013062)\">and</font>\n",
       "<font style=\"background: rgba(255, 255, 0, 0.016695)\">considering</font>\n",
       "<font style=\"background: rgba(255, 255, 0, 0.015158)\">all</font>\n",
       "<font style=\"background: rgba(255, 255, 0, 0.010872)\">of</font>\n",
       "<font style=\"background: rgba(255, 255, 0, 0.041336)\">the</font>\n",
       "<font style=\"background: rgba(255, 255, 0, 0.006466)\">talent</font>\n",
       "<font style=\"background: rgba(255, 255, 0, 0.000134)\">in</font>\n",
       "<font style=\"background: rgba(255, 255, 0, 0.041336)\">the</font>\n",
       "<font style=\"background: rgba(255, 255, 0, 0.000149)\">cast</font>\n",
       "<font style=\"background: rgba(255, 255, 0, 0.031004)\">,</font>\n",
       "<font style=\"background: rgba(255, 255, 0, 0.000000)\">i</font>\n",
       "<font style=\"background: rgba(255, 255, 0, 0.000912)\">'d</font>\n",
       "<font style=\"background: rgba(255, 255, 0, 0.000757)\">call</font>\n",
       "<font style=\"background: rgba(255, 255, 0, 0.055589)\">this</font>\n",
       "<font style=\"background: rgba(255, 255, 0, 0.002234)\">a</font>\n",
       "<font style=\"background: rgba(255, 255, 0, 0.005204)\">disappointment</font>\n",
       "<font style=\"background: rgba(255, 255, 0, 0.498355)\">.</font>\n"
      ],
      "text/plain": [
       "<IPython.core.display.HTML object>"
      ]
     },
     "metadata": {},
     "output_type": "display_data"
    }
   ],
   "source": [
    "with open('visual.html','r') as f:\n",
    "    text = f.read()\n",
    "    display(HTML(text))"
   ]
  },
  {
   "cell_type": "code",
   "execution_count": 35,
   "metadata": {
    "collapsed": true
   },
   "outputs": [],
   "source": [
    "predictions, df = acf.compute_saliency_map(x[-2834],1,'visual.html',id2token)"
   ]
  },
  {
   "cell_type": "code",
   "execution_count": 36,
   "metadata": {},
   "outputs": [
    {
     "data": {
      "text/plain": [
       "array([[ 0.97697508,  0.02302495]], dtype=float32)"
      ]
     },
     "execution_count": 36,
     "metadata": {},
     "output_type": "execute_result"
    }
   ],
   "source": [
    "predictions"
   ]
  },
  {
   "cell_type": "code",
   "execution_count": 37,
   "metadata": {},
   "outputs": [
    {
     "data": {
      "text/html": [
       "<font style=\"background: rgba(255, 255, 0, 0.386484)\">worst</font>\n",
       "<font style=\"background: rgba(255, 255, 0, 0.283721)\">movie</font>\n",
       "<font style=\"background: rgba(255, 255, 0, 0.363511)\">i</font>\n",
       "<font style=\"background: rgba(255, 255, 0, 0.133525)\">have</font>\n",
       "<font style=\"background: rgba(255, 255, 0, 0.040333)\">seen</font>\n",
       "<font style=\"background: rgba(255, 255, 0, 0.005417)\">since</font>\n",
       "<font style=\"background: rgba(255, 255, 0, 0.006281)\">_UNK</font>\n",
       "<font style=\"background: rgba(255, 255, 0, 0.000000)\">afternoon</font>\n",
       "<font style=\"background: rgba(255, 255, 0, 0.266988)\">.</font>\n",
       "<font style=\"background: rgba(255, 255, 0, 0.363511)\">i</font>\n",
       "<font style=\"background: rgba(255, 255, 0, 0.019297)\">suppose</font>\n",
       "<font style=\"background: rgba(255, 255, 0, 0.054902)\">that</font>\n",
       "<font style=\"background: rgba(255, 255, 0, 0.073251)\">this</font>\n",
       "<font style=\"background: rgba(255, 255, 0, 0.031501)\">is</font>\n",
       "<font style=\"background: rgba(255, 255, 0, 0.188780)\">a</font>\n",
       "<font style=\"background: rgba(255, 255, 0, 0.029470)\">horror</font>\n",
       "<font style=\"background: rgba(255, 255, 0, 0.035530)\">/</font>\n",
       "<font style=\"background: rgba(255, 255, 0, 0.036814)\">comedy</font>\n",
       "<font style=\"background: rgba(255, 255, 0, 0.266988)\">.</font>\n",
       "<font style=\"background: rgba(255, 255, 0, 0.363511)\">i</font>\n",
       "<font style=\"background: rgba(255, 255, 0, 0.049529)\">pretty</font>\n",
       "<font style=\"background: rgba(255, 255, 0, 0.059086)\">much</font>\n",
       "<font style=\"background: rgba(255, 255, 0, 0.244890)\">predicted</font>\n",
       "<font style=\"background: rgba(255, 255, 0, 0.154935)\">every</font>\n",
       "<font style=\"background: rgba(255, 255, 0, 0.154163)\">scene</font>\n",
       "<font style=\"background: rgba(255, 255, 0, 0.184796)\">in</font>\n",
       "<font style=\"background: rgba(255, 255, 0, 0.073251)\">this</font>\n",
       "<font style=\"background: rgba(255, 255, 0, 0.283721)\">movie</font>\n",
       "<font style=\"background: rgba(255, 255, 0, 0.266988)\">.</font>\n",
       "<font style=\"background: rgba(255, 255, 0, 0.014250)\">the</font>\n",
       "<font style=\"background: rgba(255, 255, 0, 0.031437)\">special</font>\n",
       "<font style=\"background: rgba(255, 255, 0, 0.053332)\">-</font>\n",
       "<font style=\"background: rgba(255, 255, 0, 0.076223)\">effects</font>\n",
       "<font style=\"background: rgba(255, 255, 0, 0.057736)\">were</font>\n",
       "<font style=\"background: rgba(255, 255, 0, 0.052610)\">not</font>\n",
       "<font style=\"background: rgba(255, 255, 0, 0.031966)\">so</font>\n",
       "<font style=\"background: rgba(255, 255, 0, 0.031437)\">special</font>\n",
       "<font style=\"background: rgba(255, 255, 0, 0.266988)\">.</font>\n",
       "<font style=\"background: rgba(255, 255, 0, 0.363511)\">i</font>\n",
       "<font style=\"background: rgba(255, 255, 0, 0.000000)\">believe</font>\n",
       "<font style=\"background: rgba(255, 255, 0, 0.054902)\">that</font>\n",
       "<font style=\"background: rgba(255, 255, 0, 0.363511)\">i</font>\n",
       "<font style=\"background: rgba(255, 255, 0, 0.029936)\">could</font>\n",
       "<font style=\"background: rgba(255, 255, 0, 0.000292)\">come</font>\n",
       "<font style=\"background: rgba(255, 255, 0, 0.053550)\">up</font>\n",
       "<font style=\"background: rgba(255, 255, 0, 0.064795)\">with</font>\n",
       "<font style=\"background: rgba(255, 255, 0, 0.110366)\">as</font>\n",
       "<font style=\"background: rgba(255, 255, 0, 0.139190)\">good</font>\n",
       "<font style=\"background: rgba(255, 255, 0, 0.345958)\">of</font>\n",
       "<font style=\"background: rgba(255, 255, 0, 0.076223)\">effects</font>\n",
       "<font style=\"background: rgba(255, 255, 0, 0.058916)\">from</font>\n",
       "<font style=\"background: rgba(255, 255, 0, 0.050770)\">what</font>\n",
       "<font style=\"background: rgba(255, 255, 0, 0.363511)\">i</font>\n",
       "<font style=\"background: rgba(255, 255, 0, 0.133525)\">have</font>\n",
       "<font style=\"background: rgba(255, 255, 0, 0.029802)\">lying</font>\n",
       "<font style=\"background: rgba(255, 255, 0, 0.027695)\">around</font>\n",
       "<font style=\"background: rgba(255, 255, 0, 0.014250)\">the</font>\n",
       "<font style=\"background: rgba(255, 255, 0, 0.131952)\">house</font>\n",
       "<font style=\"background: rgba(255, 255, 0, 0.266988)\">.</font>\n",
       "<font style=\"background: rgba(255, 255, 0, 0.363511)\">i</font>\n",
       "<font style=\"background: rgba(255, 255, 0, 0.035508)\">wish</font>\n",
       "<font style=\"background: rgba(255, 255, 0, 0.363511)\">i</font>\n",
       "<font style=\"background: rgba(255, 255, 0, 0.029936)\">could</font>\n",
       "<font style=\"background: rgba(255, 255, 0, 0.133525)\">have</font>\n",
       "<font style=\"background: rgba(255, 255, 0, 0.059345)\">something</font>\n",
       "<font style=\"background: rgba(255, 255, 0, 0.139190)\">good</font>\n",
       "<font style=\"background: rgba(255, 255, 0, 0.044172)\">to</font>\n",
       "<font style=\"background: rgba(255, 255, 0, 0.028756)\">say</font>\n",
       "<font style=\"background: rgba(255, 255, 0, 0.042031)\">about</font>\n",
       "<font style=\"background: rgba(255, 255, 0, 0.073251)\">this</font>\n",
       "<font style=\"background: rgba(255, 255, 0, 0.283721)\">movie</font>\n",
       "<font style=\"background: rgba(255, 255, 0, 0.040378)\">,</font>\n",
       "<font style=\"background: rgba(255, 255, 0, 0.000000)\">but</font>\n",
       "<font style=\"background: rgba(255, 255, 0, 0.363511)\">i</font>\n",
       "<font style=\"background: rgba(255, 255, 0, 0.108060)\">am</font>\n",
       "<font style=\"background: rgba(255, 255, 0, 0.077153)\">afraid</font>\n",
       "<font style=\"background: rgba(255, 255, 0, 0.054902)\">that</font>\n",
       "<font style=\"background: rgba(255, 255, 0, 0.363511)\">i</font>\n",
       "<font style=\"background: rgba(255, 255, 0, 0.000496)\">do</font>\n",
       "<font style=\"background: rgba(255, 255, 0, 0.052198)\">n't</font>\n",
       "<font style=\"background: rgba(255, 255, 0, 0.266988)\">.</font>\n",
       "<font style=\"background: rgba(255, 255, 0, 0.464154)\">even</font>\n",
       "<font style=\"background: rgba(255, 255, 0, 0.797071)\">coolio</font>\n",
       "<font style=\"background: rgba(255, 255, 0, 1.000000)\">should</font>\n",
       "<font style=\"background: rgba(255, 255, 0, 0.519323)\">be</font>\n",
       "<font style=\"background: rgba(255, 255, 0, 0.414393)\">ashamed</font>\n",
       "<font style=\"background: rgba(255, 255, 0, 0.345958)\">of</font>\n",
       "<font style=\"background: rgba(255, 255, 0, 0.399005)\">appearing</font>\n",
       "<font style=\"background: rgba(255, 255, 0, 0.184796)\">in</font>\n",
       "<font style=\"background: rgba(255, 255, 0, 0.109119)\">such</font>\n",
       "<font style=\"background: rgba(255, 255, 0, 0.188780)\">a</font>\n",
       "<font style=\"background: rgba(255, 255, 0, 0.049161)\">turkey</font>\n",
       "<font style=\"background: rgba(255, 255, 0, 0.266988)\">.</font>\n",
       "<font style=\"background: rgba(255, 255, 0, 0.363511)\">i</font>\n",
       "<font style=\"background: rgba(255, 255, 0, 0.000496)\">do</font>\n",
       "<font style=\"background: rgba(255, 255, 0, 0.040378)\">,</font>\n",
       "<font style=\"background: rgba(255, 255, 0, 0.106101)\">after</font>\n",
       "<font style=\"background: rgba(255, 255, 0, 0.188780)\">a</font>\n",
       "<font style=\"background: rgba(255, 255, 0, 0.157194)\">little</font>\n",
       "<font style=\"background: rgba(255, 255, 0, 0.124726)\">thought</font>\n",
       "<font style=\"background: rgba(255, 255, 0, 0.040378)\">,</font>\n",
       "<font style=\"background: rgba(255, 255, 0, 0.133525)\">have</font>\n",
       "<font style=\"background: rgba(255, 255, 0, 0.000044)\">one</font>\n",
       "<font style=\"background: rgba(255, 255, 0, 0.000041)\">thing</font>\n",
       "<font style=\"background: rgba(255, 255, 0, 0.139190)\">good</font>\n",
       "<font style=\"background: rgba(255, 255, 0, 0.044172)\">to</font>\n",
       "<font style=\"background: rgba(255, 255, 0, 0.028756)\">say</font>\n",
       "<font style=\"background: rgba(255, 255, 0, 0.042031)\">about</font>\n",
       "<font style=\"background: rgba(255, 255, 0, 0.073251)\">this</font>\n",
       "<font style=\"background: rgba(255, 255, 0, 0.283721)\">movie</font>\n",
       "<font style=\"background: rgba(255, 255, 0, 0.053332)\">-</font>\n",
       "<font style=\"background: rgba(255, 255, 0, 0.006986)\">it</font>\n",
       "<font style=\"background: rgba(255, 255, 0, 0.008108)\">ended</font>\n",
       "<font style=\"background: rgba(255, 255, 0, 0.266988)\">.</font>\n"
      ],
      "text/plain": [
       "<IPython.core.display.HTML object>"
      ]
     },
     "metadata": {},
     "output_type": "display_data"
    }
   ],
   "source": [
    "with open('visual.html','r') as f:\n",
    "    text = f.read()\n",
    "    display(HTML(text))"
   ]
  },
  {
   "cell_type": "code",
   "execution_count": 38,
   "metadata": {
    "collapsed": true
   },
   "outputs": [],
   "source": [
    "predictions, df = acf.compute_saliency_map(x[-1345],1,'visual.html',id2token)"
   ]
  },
  {
   "cell_type": "code",
   "execution_count": 39,
   "metadata": {},
   "outputs": [
    {
     "data": {
      "text/plain": [
       "array([[ 0.89912432,  0.1008757 ]], dtype=float32)"
      ]
     },
     "execution_count": 39,
     "metadata": {},
     "output_type": "execute_result"
    }
   ],
   "source": [
    "predictions"
   ]
  },
  {
   "cell_type": "code",
   "execution_count": 40,
   "metadata": {},
   "outputs": [
    {
     "data": {
      "text/html": [
       "<font style=\"background: rgba(255, 255, 0, 0.143073)\">this</font>\n",
       "<font style=\"background: rgba(255, 255, 0, 0.275302)\">film</font>\n",
       "<font style=\"background: rgba(255, 255, 0, 0.517535)\">is</font>\n",
       "<font style=\"background: rgba(255, 255, 0, 0.036767)\">so</font>\n",
       "<font style=\"background: rgba(255, 255, 0, 0.040065)\">much</font>\n",
       "<font style=\"background: rgba(255, 255, 0, 0.126389)\">of</font>\n",
       "<font style=\"background: rgba(255, 255, 0, 0.092448)\">a</font>\n",
       "<font style=\"background: rgba(255, 255, 0, 0.042256)\">rip</font>\n",
       "<font style=\"background: rgba(255, 255, 0, 0.094804)\">-</font>\n",
       "<font style=\"background: rgba(255, 255, 0, 0.087631)\">off</font>\n",
       "<font style=\"background: rgba(255, 255, 0, 0.126389)\">of</font>\n",
       "<font style=\"background: rgba(255, 255, 0, 0.359877)\">the</font>\n",
       "<font style=\"background: rgba(255, 255, 0, 0.226337)\">_UNK</font>\n",
       "<font style=\"background: rgba(255, 255, 0, 0.226337)\">_UNK</font>\n",
       "<font style=\"background: rgba(255, 255, 0, 0.134807)\">\"</font>\n",
       "<font style=\"background: rgba(255, 255, 0, 0.346766)\">and</font>\n",
       "<font style=\"background: rgba(255, 255, 0, 0.068922)\">that</font>\n",
       "<font style=\"background: rgba(255, 255, 0, 0.000000)\">s</font>\n",
       "<font style=\"background: rgba(255, 255, 0, 0.359877)\">the</font>\n",
       "<font style=\"background: rgba(255, 255, 0, 0.059959)\">only</font>\n",
       "<font style=\"background: rgba(255, 255, 0, 0.055145)\">thing</font>\n",
       "<font style=\"background: rgba(255, 255, 0, 0.068922)\">that</font>\n",
       "<font style=\"background: rgba(255, 255, 0, 0.104080)\">makes</font>\n",
       "<font style=\"background: rgba(255, 255, 0, 0.359877)\">the</font>\n",
       "<font style=\"background: rgba(255, 255, 0, 0.080178)\">movie</font>\n",
       "<font style=\"background: rgba(255, 255, 0, 0.114234)\">worth</font>\n",
       "<font style=\"background: rgba(255, 255, 0, 0.059859)\">watching</font>\n",
       "<font style=\"background: rgba(255, 255, 0, 0.044800)\">.</font>\n",
       "<font style=\"background: rgba(255, 255, 0, 0.359877)\">the</font>\n",
       "<font style=\"background: rgba(255, 255, 0, 0.189326)\">acting</font>\n",
       "<font style=\"background: rgba(255, 255, 0, 0.517535)\">is</font>\n",
       "<font style=\"background: rgba(255, 255, 0, 0.778959)\">terrible</font>\n",
       "<font style=\"background: rgba(255, 255, 0, 0.413581)\">,</font>\n",
       "<font style=\"background: rgba(255, 255, 0, 0.359877)\">the</font>\n",
       "<font style=\"background: rgba(255, 255, 0, 0.023941)\">action</font>\n",
       "<font style=\"background: rgba(255, 255, 0, 0.066052)\">scenes</font>\n",
       "<font style=\"background: rgba(255, 255, 0, 0.102941)\">are</font>\n",
       "<font style=\"background: rgba(255, 255, 0, 0.090418)\">speeded</font>\n",
       "<font style=\"background: rgba(255, 255, 0, 0.073677)\">up</font>\n",
       "<font style=\"background: rgba(255, 255, 0, 0.413581)\">,</font>\n",
       "<font style=\"background: rgba(255, 255, 0, 0.359877)\">the</font>\n",
       "<font style=\"background: rgba(255, 255, 0, 0.252505)\">script</font>\n",
       "<font style=\"background: rgba(255, 255, 0, 0.517535)\">is</font>\n",
       "<font style=\"background: rgba(255, 255, 0, 0.142615)\">almost</font>\n",
       "<font style=\"background: rgba(255, 255, 0, 0.083185)\">painful</font>\n",
       "<font style=\"background: rgba(255, 255, 0, 0.346766)\">and</font>\n",
       "<font style=\"background: rgba(255, 255, 0, 0.562457)\">budget</font>\n",
       "<font style=\"background: rgba(255, 255, 0, 0.896101)\">non</font>\n",
       "<font style=\"background: rgba(255, 255, 0, 1.000000)\">existent.<br</font>\n",
       "<font style=\"background: rgba(255, 255, 0, 0.498907)\">/><br</font>\n",
       "<font style=\"background: rgba(255, 255, 0, 0.246615)\">/>if</font>\n",
       "<font style=\"background: rgba(255, 255, 0, 0.329010)\">you</font>\n",
       "<font style=\"background: rgba(255, 255, 0, 0.060182)\">think</font>\n",
       "<font style=\"background: rgba(255, 255, 0, 0.143073)\">this</font>\n",
       "<font style=\"background: rgba(255, 255, 0, 0.275302)\">film</font>\n",
       "<font style=\"background: rgba(255, 255, 0, 0.517535)\">is</font>\n",
       "<font style=\"background: rgba(255, 255, 0, 0.012260)\">good</font>\n",
       "<font style=\"background: rgba(255, 255, 0, 0.115675)\">then</font>\n",
       "<font style=\"background: rgba(255, 255, 0, 0.329010)\">you</font>\n",
       "<font style=\"background: rgba(255, 255, 0, 0.226337)\">_UNK</font>\n",
       "<font style=\"background: rgba(255, 255, 0, 0.035561)\">seen</font>\n",
       "<font style=\"background: rgba(255, 255, 0, 0.092448)\">a</font>\n",
       "<font style=\"background: rgba(255, 255, 0, 0.239066)\">real</font>\n",
       "<font style=\"background: rgba(255, 255, 0, 0.195191)\">horror</font>\n",
       "<font style=\"background: rgba(255, 255, 0, 0.275302)\">film</font>\n",
       "<font style=\"background: rgba(255, 255, 0, 0.413581)\">,</font>\n",
       "<font style=\"background: rgba(255, 255, 0, 0.078476)\">skip</font>\n",
       "<font style=\"background: rgba(255, 255, 0, 0.143073)\">this</font>\n",
       "<font style=\"background: rgba(255, 255, 0, 0.346766)\">and</font>\n",
       "<font style=\"background: rgba(255, 255, 0, 0.094538)\">get</font>\n",
       "<font style=\"background: rgba(255, 255, 0, 0.092448)\">a</font>\n",
       "<font style=\"background: rgba(255, 255, 0, 0.026436)\">copy</font>\n",
       "<font style=\"background: rgba(255, 255, 0, 0.126389)\">of</font>\n",
       "<font style=\"background: rgba(255, 255, 0, 0.359877)\">the</font>\n",
       "<font style=\"background: rgba(255, 255, 0, 0.080178)\">movie</font>\n",
       "<font style=\"background: rgba(255, 255, 0, 0.010471)\">demons</font>\n",
       "<font style=\"background: rgba(255, 255, 0, 0.044800)\">.</font>\n",
       "<font style=\"background: rgba(255, 255, 0, 0.134807)\">\"</font>\n"
      ],
      "text/plain": [
       "<IPython.core.display.HTML object>"
      ]
     },
     "metadata": {},
     "output_type": "display_data"
    }
   ],
   "source": [
    "with open('visual.html','r') as f:\n",
    "    text = f.read()\n",
    "    display(HTML(text))"
   ]
  }
 ],
 "metadata": {
  "kernelspec": {
   "display_name": "Python 2",
   "language": "python",
   "name": "python2"
  },
  "language_info": {
   "codemirror_mode": {
    "name": "ipython",
    "version": 2
   },
   "file_extension": ".py",
   "mimetype": "text/x-python",
   "name": "python",
   "nbconvert_exporter": "python",
   "pygments_lexer": "ipython2",
   "version": "2.7.14"
  }
 },
 "nbformat": 4,
 "nbformat_minor": 2
}
